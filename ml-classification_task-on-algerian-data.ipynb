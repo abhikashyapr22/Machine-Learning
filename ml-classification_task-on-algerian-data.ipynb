{
 "cells": [
  {
   "cell_type": "code",
   "execution_count": 99,
   "metadata": {},
   "outputs": [
    {
     "data": {
      "text/html": [
       "<img src=\"Forest Fire.webp\"/>"
      ],
      "text/plain": [
       "<IPython.core.display.Image object>"
      ]
     },
     "execution_count": 99,
     "metadata": {},
     "output_type": "execute_result"
    }
   ],
   "source": [
    "from IPython.display import Image\n",
    "from IPython.core.display import HTML \n",
    "Image(url= \"Forest Fire.webp\")"
   ]
  },
  {
   "cell_type": "markdown",
   "metadata": {},
   "source": [
    "# Data Set Information:\n",
    "\n",
    "The dataset includes 244 instances that regroup a data of two regions of Algeria, namely the Bejaia region located in the northeast of Algeria and the Sidi Bel-abbes region located in the northwest of Algeria.\n",
    "\n",
    "* 122 instances for each region.\n",
    "\n",
    "* The period from June 2012 to September 2012.\n",
    "* The dataset includes 11 attribues and 1 output attribue (class)\n",
    "* The 244 instances have been classified into Fire (138 classes) and Not Fire (106 classes) classes."
   ]
  },
  {
   "cell_type": "markdown",
   "metadata": {},
   "source": [
    "Attribute Information:\n",
    "\n",
    "1. Date : (DD/MM/YYYY) Day, month ('june' to 'september'), year (2012)\n",
    "\n",
    "* Weather data observations\n",
    "2. Temp : temperature noon (temperature max) in Celsius degrees: 22 to 42\n",
    "3. RH : Relative Humidity in %: 21 to 90\n",
    "4. Ws :Wind speed in km/h: 6 to 29\n",
    "5. Rain: total day in mm: 0 to 16.8\n",
    "\n",
    "* FWI Components\n",
    "6. Fine Fuel Moisture Code (FFMC) index from the FWI system: 28.6 to 92.5\n",
    "7. Duff Moisture Code (DMC) index from the FWI system: 1.1 to 65.9\n",
    "8. Drought Code (DC) index from the FWI system: 7 to 220.4\n",
    "9. Initial Spread Index (ISI) index from the FWI system: 0 to 18.5\n",
    "10. Buildup Index (BUI) index from the FWI system: 1.1 to 68\n",
    "11. Fire Weather Index (FWI) Index: 0 to 31.1\n",
    "12. Classes: two classes, namely Fire and Not Fire"
   ]
  },
  {
   "cell_type": "code",
   "execution_count": 100,
   "metadata": {
    "execution": {
     "iopub.execute_input": "2022-10-16T17:48:04.602073Z",
     "iopub.status.busy": "2022-10-16T17:48:04.601544Z",
     "iopub.status.idle": "2022-10-16T17:48:04.610710Z",
     "shell.execute_reply": "2022-10-16T17:48:04.609069Z",
     "shell.execute_reply.started": "2022-10-16T17:48:04.602035Z"
    },
    "id": "AqypfQH0zRn-"
   },
   "outputs": [],
   "source": [
    "import pandas as pd\n",
    "import numpy as np\n",
    "import seaborn as sns\n",
    "import matplotlib.pyplot as plt\n",
    "%matplotlib inline\n",
    "\n",
    "sns.set_theme(style=\"whitegrid\")"
   ]
  },
  {
   "cell_type": "code",
   "execution_count": 101,
   "metadata": {
    "execution": {
     "iopub.execute_input": "2022-10-16T17:48:04.613416Z",
     "iopub.status.busy": "2022-10-16T17:48:04.612955Z",
     "iopub.status.idle": "2022-10-16T17:48:04.631703Z",
     "shell.execute_reply": "2022-10-16T17:48:04.630649Z",
     "shell.execute_reply.started": "2022-10-16T17:48:04.613344Z"
    },
    "id": "sgtlmPIt1xSw"
   },
   "outputs": [],
   "source": [
    "df = pd.read_csv('C:/Users/abhi/Downloads/Algerian Dataset/Algerian_forest_fires_dataset_for_classification.csv', header=0)"
   ]
  },
  {
   "cell_type": "code",
   "execution_count": 102,
   "metadata": {
    "colab": {
     "base_uri": "https://localhost:8080/",
     "height": 206
    },
    "execution": {
     "iopub.execute_input": "2022-10-16T17:48:04.635044Z",
     "iopub.status.busy": "2022-10-16T17:48:04.634262Z",
     "iopub.status.idle": "2022-10-16T17:48:04.660008Z",
     "shell.execute_reply": "2022-10-16T17:48:04.658583Z",
     "shell.execute_reply.started": "2022-10-16T17:48:04.634989Z"
    },
    "id": "NtzMj-flzRoT",
    "outputId": "2c7a8d34-80bb-4246-dd4f-739f3bb6d8e6"
   },
   "outputs": [
    {
     "data": {
      "text/html": [
       "<div>\n",
       "<style scoped>\n",
       "    .dataframe tbody tr th:only-of-type {\n",
       "        vertical-align: middle;\n",
       "    }\n",
       "\n",
       "    .dataframe tbody tr th {\n",
       "        vertical-align: top;\n",
       "    }\n",
       "\n",
       "    .dataframe thead th {\n",
       "        text-align: right;\n",
       "    }\n",
       "</style>\n",
       "<table border=\"1\" class=\"dataframe\">\n",
       "  <thead>\n",
       "    <tr style=\"text-align: right;\">\n",
       "      <th></th>\n",
       "      <th>day</th>\n",
       "      <th>month</th>\n",
       "      <th>year</th>\n",
       "      <th>Temperature</th>\n",
       "      <th>RH</th>\n",
       "      <th>Ws</th>\n",
       "      <th>Rain</th>\n",
       "      <th>FFMC</th>\n",
       "      <th>DMC</th>\n",
       "      <th>DC</th>\n",
       "      <th>ISI</th>\n",
       "      <th>BUI</th>\n",
       "      <th>FWI</th>\n",
       "      <th>Classes</th>\n",
       "    </tr>\n",
       "  </thead>\n",
       "  <tbody>\n",
       "    <tr>\n",
       "      <th>0</th>\n",
       "      <td>1</td>\n",
       "      <td>6</td>\n",
       "      <td>2012</td>\n",
       "      <td>29</td>\n",
       "      <td>57</td>\n",
       "      <td>18</td>\n",
       "      <td>0.0</td>\n",
       "      <td>65.7</td>\n",
       "      <td>3.4</td>\n",
       "      <td>7.6</td>\n",
       "      <td>1.3</td>\n",
       "      <td>3.4</td>\n",
       "      <td>0.5</td>\n",
       "      <td>not fire</td>\n",
       "    </tr>\n",
       "    <tr>\n",
       "      <th>1</th>\n",
       "      <td>2</td>\n",
       "      <td>6</td>\n",
       "      <td>2012</td>\n",
       "      <td>29</td>\n",
       "      <td>61</td>\n",
       "      <td>13</td>\n",
       "      <td>1.3</td>\n",
       "      <td>64.4</td>\n",
       "      <td>4.1</td>\n",
       "      <td>7.6</td>\n",
       "      <td>1.0</td>\n",
       "      <td>3.9</td>\n",
       "      <td>0.4</td>\n",
       "      <td>not fire</td>\n",
       "    </tr>\n",
       "    <tr>\n",
       "      <th>2</th>\n",
       "      <td>3</td>\n",
       "      <td>6</td>\n",
       "      <td>2012</td>\n",
       "      <td>26</td>\n",
       "      <td>82</td>\n",
       "      <td>22</td>\n",
       "      <td>13.1</td>\n",
       "      <td>47.1</td>\n",
       "      <td>2.5</td>\n",
       "      <td>7.1</td>\n",
       "      <td>0.3</td>\n",
       "      <td>2.7</td>\n",
       "      <td>0.1</td>\n",
       "      <td>not fire</td>\n",
       "    </tr>\n",
       "    <tr>\n",
       "      <th>3</th>\n",
       "      <td>4</td>\n",
       "      <td>6</td>\n",
       "      <td>2012</td>\n",
       "      <td>25</td>\n",
       "      <td>89</td>\n",
       "      <td>13</td>\n",
       "      <td>2.5</td>\n",
       "      <td>28.6</td>\n",
       "      <td>1.3</td>\n",
       "      <td>6.9</td>\n",
       "      <td>0.0</td>\n",
       "      <td>1.7</td>\n",
       "      <td>0.0</td>\n",
       "      <td>not fire</td>\n",
       "    </tr>\n",
       "    <tr>\n",
       "      <th>4</th>\n",
       "      <td>5</td>\n",
       "      <td>6</td>\n",
       "      <td>2012</td>\n",
       "      <td>27</td>\n",
       "      <td>77</td>\n",
       "      <td>16</td>\n",
       "      <td>0.0</td>\n",
       "      <td>64.8</td>\n",
       "      <td>3.0</td>\n",
       "      <td>14.2</td>\n",
       "      <td>1.2</td>\n",
       "      <td>3.9</td>\n",
       "      <td>0.5</td>\n",
       "      <td>not fire</td>\n",
       "    </tr>\n",
       "  </tbody>\n",
       "</table>\n",
       "</div>"
      ],
      "text/plain": [
       "   day  month  year  Temperature   RH   Ws  Rain   FFMC  DMC    DC  ISI  BUI  \\\n",
       "0    1      6  2012           29   57   18    0.0  65.7  3.4   7.6  1.3  3.4   \n",
       "1    2      6  2012           29   61   13    1.3  64.4  4.1   7.6  1.0  3.9   \n",
       "2    3      6  2012           26   82   22   13.1  47.1  2.5   7.1  0.3  2.7   \n",
       "3    4      6  2012           25   89   13    2.5  28.6  1.3   6.9  0.0  1.7   \n",
       "4    5      6  2012           27   77   16    0.0  64.8  3.0  14.2  1.2  3.9   \n",
       "\n",
       "   FWI    Classes    \n",
       "0  0.5  not fire     \n",
       "1  0.4  not fire     \n",
       "2  0.1  not fire     \n",
       "3  0.0  not fire     \n",
       "4  0.5  not fire     "
      ]
     },
     "execution_count": 102,
     "metadata": {},
     "output_type": "execute_result"
    }
   ],
   "source": [
    "df.head()"
   ]
  },
  {
   "cell_type": "code",
   "execution_count": 103,
   "metadata": {
    "colab": {
     "base_uri": "https://localhost:8080/"
    },
    "execution": {
     "iopub.execute_input": "2022-10-16T17:48:04.662861Z",
     "iopub.status.busy": "2022-10-16T17:48:04.662413Z",
     "iopub.status.idle": "2022-10-16T17:48:04.673679Z",
     "shell.execute_reply": "2022-10-16T17:48:04.672809Z",
     "shell.execute_reply.started": "2022-10-16T17:48:04.662825Z"
    },
    "id": "Bo_1nLvD3EBB",
    "outputId": "eb904696-78ab-4e75-8f0a-33a8711c78d3"
   },
   "outputs": [
    {
     "data": {
      "text/plain": [
       "Index(['day', 'month', 'year', 'Temperature', ' RH', ' Ws', 'Rain ', 'FFMC',\n",
       "       'DMC', 'DC', 'ISI', 'BUI', 'FWI', 'Classes  '],\n",
       "      dtype='object')"
      ]
     },
     "execution_count": 103,
     "metadata": {},
     "output_type": "execute_result"
    }
   ],
   "source": [
    "df.columns"
   ]
  },
  {
   "cell_type": "code",
   "execution_count": 104,
   "metadata": {
    "colab": {
     "base_uri": "https://localhost:8080/"
    },
    "execution": {
     "iopub.execute_input": "2022-10-16T17:48:04.688775Z",
     "iopub.status.busy": "2022-10-16T17:48:04.687887Z",
     "iopub.status.idle": "2022-10-16T17:48:04.707901Z",
     "shell.execute_reply": "2022-10-16T17:48:04.706670Z",
     "shell.execute_reply.started": "2022-10-16T17:48:04.688736Z"
    },
    "id": "9CjqxYKLzRoX",
    "outputId": "173f48f5-f0da-42e9-d594-d2c8ff456998"
   },
   "outputs": [
    {
     "name": "stdout",
     "output_type": "stream",
     "text": [
      "<class 'pandas.core.frame.DataFrame'>\n",
      "RangeIndex: 244 entries, 0 to 243\n",
      "Data columns (total 14 columns):\n",
      " #   Column       Non-Null Count  Dtype  \n",
      "---  ------       --------------  -----  \n",
      " 0   day          244 non-null    int64  \n",
      " 1   month        244 non-null    int64  \n",
      " 2   year         244 non-null    int64  \n",
      " 3   Temperature  244 non-null    int64  \n",
      " 4    RH          244 non-null    int64  \n",
      " 5    Ws          244 non-null    int64  \n",
      " 6   Rain         244 non-null    float64\n",
      " 7   FFMC         244 non-null    float64\n",
      " 8   DMC          244 non-null    float64\n",
      " 9   DC           244 non-null    float64\n",
      " 10  ISI          244 non-null    float64\n",
      " 11  BUI          244 non-null    float64\n",
      " 12  FWI          244 non-null    float64\n",
      " 13  Classes      243 non-null    object \n",
      "dtypes: float64(7), int64(6), object(1)\n",
      "memory usage: 26.8+ KB\n"
     ]
    }
   ],
   "source": [
    "df.info()"
   ]
  },
  {
   "cell_type": "code",
   "execution_count": 105,
   "metadata": {
    "colab": {
     "base_uri": "https://localhost:8080/"
    },
    "execution": {
     "iopub.execute_input": "2022-10-16T17:48:04.710740Z",
     "iopub.status.busy": "2022-10-16T17:48:04.709951Z",
     "iopub.status.idle": "2022-10-16T17:48:04.729598Z",
     "shell.execute_reply": "2022-10-16T17:48:04.728723Z",
     "shell.execute_reply.started": "2022-10-16T17:48:04.710683Z"
    },
    "id": "vk6ZK0H78Tki",
    "outputId": "ee685b01-bcaa-4516-af6f-d3e66044381f"
   },
   "outputs": [
    {
     "name": "stdout",
     "output_type": "stream",
     "text": [
      "[ 1  2  3  4  5  6  7  8  9 10 11 12 13 14 15 16 17 18 19 20 21 22 23 24\n",
      " 25 26 27 28 29 30 31]\n",
      "\n",
      "[6 7 8 9]\n",
      "\n",
      "[2012]\n",
      "\n",
      "[29 26 25 27 31 33 30 28 32 34 35 36 37 22 24 38 39 40 42]\n",
      "\n",
      "[57 61 82 89 77 67 54 73 88 79 65 81 84 78 80 55 62 66 64 53 47 50 68 75\n",
      " 76 63 69 70 59 48 45 60 51 52 58 86 74 71 49 44 41 42 90 87 72 46 37 36\n",
      " 56 43 83 29 34 33 35 39 31 21 40 24 38 26]\n",
      "\n",
      "[18 13 22 16 14 15 12 19 21 20 17 26 11 10  9  8  6 29]\n",
      "\n",
      "[ 0.   1.3 13.1  2.5  0.2  1.2  0.5  3.1  0.7  0.6  0.3  0.1  0.4  1.\n",
      "  1.4  0.8 16.8  7.2 10.1  3.8  0.9  1.8  4.6  8.3  5.8  4.   2.   4.7\n",
      "  8.7  4.5  1.1  1.7  2.2  6.   1.9  2.9  4.1  6.5  4.4]\n",
      "\n",
      "[65.7 64.4 47.1 28.6 64.8 82.6 88.2 86.6 52.9 73.2 84.5 84.  50.  59.\n",
      " 49.4 36.1 37.3 56.9 79.9 59.8 81.  79.1 81.4 85.9 86.7 86.8 89.  89.1\n",
      " 88.7 59.9 55.7 63.1 80.1 87.  80.  85.6 66.6 81.1 75.1 81.8 73.9 60.7\n",
      " 72.6 82.8 85.4 88.1 73.4 68.2 70.  84.3 89.2 90.3 86.5 87.2 78.8 78.\n",
      " 76.6 85.  86.4 77.1 87.4 88.9 81.3 82.4 80.2 89.3 89.4 88.3 88.6 89.5\n",
      " 85.8 84.9 90.1 72.7 52.5 46.  30.5 42.6 68.4 80.8 75.8 69.6 62.  56.1\n",
      " 58.5 71.  40.9 47.4 44.9 78.1 87.7 83.8 87.8 77.8 73.7 68.3 48.6 82.\n",
      " 85.7 77.5 45.  57.1 48.7 79.4 83.7 71.4 90.6 72.3 53.4 66.8 62.2 65.5\n",
      " 64.6 60.2 86.2 78.3 74.2 85.3 86.  92.5 79.7 63.7 87.6 84.7 88.  90.5\n",
      " 82.3 74.8 85.2 84.6 86.1 89.9 93.9 91.5 87.3 72.8 73.8 87.5 93.3 93.7\n",
      " 93.8 70.5 69.7 91.7 94.2 93.  91.9 83.9 92.  96.  94.3 82.7 91.2 92.1\n",
      " 92.2 91.  79.2 37.9 75.4 82.2 73.5 66.1 64.5 83.3 82.5 83.1 59.5 84.2\n",
      " 79.5 61.3 41.1 45.9 67.3]\n",
      "\n",
      "[ 3.4  4.1  2.5  1.3  3.   5.8  9.9 12.1  7.9  9.5 12.5 13.8  6.7  4.6\n",
      "  1.7  1.1  1.9  4.5  6.3  7.   8.2 11.2 14.2 17.8 21.6 25.5 18.4 22.9\n",
      "  2.4  2.6  7.6 10.9  9.7  7.7  6.   8.1  7.8  5.2  9.4 12.  12.3 18.5\n",
      " 16.4 10.5  9.6 17.1 22.2 24.4 26.7 28.5 31.9  4.8  5.7 11.1 13.  15.5\n",
      " 11.3 14.8 18.6 21.7 15.6 19.  11.7 16.  20.  23.2 25.9 29.6 33.5 37.6\n",
      " 40.5 43.9 45.6 47.  50.2 54.2 25.2  8.7  0.7  1.2  3.6  3.2  2.1  2.2\n",
      "  0.9  6.4  9.8 13.5 16.5 10.6  5.5  8.3  7.1  2.9  2.7  8.4  8.5 13.3\n",
      " 18.2 21.3 11.4  7.2  4.2  3.9  4.4  3.8 10.  12.8 20.9 27.2 17.9 13.6\n",
      " 18.7  8.  12.6 12.9 18.  19.4 21.1 23.9 27.8 32.7 39.6 44.2 46.6 10.8\n",
      " 11.8 15.7 19.5 23.8 28.3 23.  23.6 11.  15.8 22.5 16.9 22.3 22.6 30.3\n",
      " 35.9 34.4 36.9 41.1 46.1 51.3 56.3 61.3 65.9 37.  20.7 24.8  4.   3.3\n",
      "  6.6  4.7  6.5 11.5 21.2 25.8 24.9 26.1 29.4 11.9  3.5  4.3]\n",
      "\n",
      "[  7.6   7.1   6.9  14.2  22.2  30.5  38.3  38.8  46.3  54.3  61.4  17.\n",
      "   7.8   7.4   8.   16.   27.1  31.6  39.5  47.7  55.8  63.8  71.8  80.3\n",
      "  88.5  84.4  92.8   8.6   8.3   9.2  18.5  27.9  37.   40.4  49.8   9.3\n",
      "  18.7  27.7  37.2  22.9  25.5  34.1  43.1  52.8  62.1  71.5  79.9  71.3\n",
      "  79.7  88.7  98.6 108.5 117.8 127.  136.  145.7  10.2  10.   19.8  29.7\n",
      "  39.1  48.6  47.   57.   67.   77.   75.1  85.1  94.7  92.5  90.4 100.7\n",
      " 110.9 120.9 130.6 141.1 151.3 161.5 171.3 181.3 190.6 200.2 210.4 220.4\n",
      " 180.4   8.7   7.5   7.   15.7  24.   32.2  30.1   8.4   8.9  16.6   7.3\n",
      "  24.3  33.1  41.3  49.3  57.9  41.4  30.4  15.2   7.7  16.3  24.9   8.8\n",
      "   8.2  15.4  17.6  26.3  28.9  14.7  22.5  37.8  18.4  25.6  34.5  43.3\n",
      "  52.4  36.7   8.5  17.8  27.3  36.8  46.4  45.1  35.4   9.7   9.9   9.5\n",
      "  19.4  10.4  14.6  24.1  42.3  51.6  61.1  71.   80.6  90.1  99.   56.6\n",
      "  15.9  19.7  28.3  37.6  47.2  57.1  67.2  10.5  21.4  32.1  42.7  52.5\n",
      "   9.1   9.8  20.2  30.9  41.5  55.5  54.2  65.1  76.4  86.8  96.8 107.\n",
      " 117.1 127.5 137.7 147.7 157.5 167.2 177.3 166.  149.2 159.1 168.2  26.6\n",
      "  17.7  26.1  25.2  33.4  50.2  59.2  63.3  77.8  86.   88.   97.3 106.3\n",
      " 115.6  28.1  36.1  44.5   7.9  16.5]\n",
      "\n",
      "[ 1.3  1.   0.3  0.   1.2  3.1  6.4  5.6  0.4  4.   4.8  0.5  0.7  2.5\n",
      "  0.9  2.6  2.4  3.3  5.7  6.7  9.2  7.6  2.2  7.2  1.1  0.8  2.7  2.8\n",
      "  6.   1.5  3.   1.4  3.2  4.6  7.7  5.2  1.8 10.   8.7  4.7  6.8  2.\n",
      "  1.7  5.5  6.9  7.4  7.1  5.9  3.7  9.7  8.8  9.9 10.4  9.   8.2  4.4\n",
      "  7.3 12.5  0.6  0.2  0.1  2.1  1.9  6.2  7.8  4.5  5.4  8.4 13.4  5.\n",
      "  1.6  4.9  7.   8.  11.7 11.3  4.3  4.1  8.3  4.2 10.9  9.5 18.5 13.2\n",
      " 13.8 17.2 15.7 19.   9.6 16.6 15.5  7.5 10.8  3.5 16.   3.8  5.1 11.5\n",
      " 12.2 14.3 13.1  8.1  9.8  9.1 14.2 11.2]\n",
      "\n",
      "[ 3.4  3.9  2.7  1.7  7.  10.9 13.5 10.5 12.6 15.8 17.7  6.7  4.4  3.\n",
      "  2.2  1.6  2.4  5.3  5.1  8.4  9.7 11.5 14.9 18.3 21.6 25.8 29.7 23.8\n",
      " 28.3  2.9  2.8  5.7  9.1 12.5 12.1 15.4  7.4  5.8  8.1  9.2 11.7  5.9\n",
      "  8.3 11.1 14.2 18.2 16.5 22.4 21.7 14.7 18.5 23.9 29.4 32.1 35.  37.4\n",
      " 41.2  4.7  5.5  8.2 17.2 14.1 17.9 21.9 25.5 20.7 24.4 27.2 22.  17.6\n",
      " 22.9 27.5 31.3 34.7 38.8 43.1 47.5 50.9 54.7 57.1 59.3 62.9 67.4  1.8\n",
      "  1.1  5.6  2.6  3.7  1.4  4.2  7.7 11.3 16.  19.2 12.9  9.6  6.2  9.\n",
      "  6.8  6.5  9.3 10.7  7.3 13.1 18.  21.2  6.1  7.1  4.1  3.8  9.9 12.7\n",
      " 16.4 20.8 27.1 17.8  3.3  7.8 10.3 18.7 16.7 13.7  9.4 10.4 20.9 27.7\n",
      " 32.6 39.5 44.  46.5 11.4 11.8 15.7 19.5 10.6 16.9 23.5  6.9 11.  18.4\n",
      " 17.5 22.3 19.  24.2 30.4 35.9 35.5 38.1 41.3 45.5 50.2 54.9 59.5 64.\n",
      " 68.  30.6 35.7 39.3  4.   6.   3.5  6.4 10.   4.6  6.6 12.4 14.3 26.2\n",
      " 28.2 28.9 32.4 36.  11.9  4.8]\n",
      "\n",
      "[ 0.5  0.4  0.1  0.   2.5  7.2  7.1  0.3  0.9  5.6  0.2  1.4  2.2  2.3\n",
      "  3.8  7.5  8.4 10.6 15.  13.9  3.9 12.9  1.7  4.9  6.8  3.2  8.   0.6\n",
      "  3.4  0.8  3.6  6.  10.9  4.   8.8  2.8  2.1  1.3  7.3 15.3 11.3 11.9\n",
      " 10.7 15.7  6.1  2.6  9.9 11.6 12.1  4.2 10.2  6.3 14.6 16.1 17.2 16.8\n",
      " 18.4 20.4 22.3 20.9 20.3 13.7 13.2 19.9 30.2  5.9  7.7  9.7  8.3  0.7\n",
      "  4.1  1.   3.1  1.9 10.  16.7  1.2  5.3  6.7  9.5 12.   6.4  5.2  3.\n",
      "  9.6  4.7 10.5 14.1  9.1 13.  17.3 30.  25.4 16.3  9.  14.5 13.5 19.5\n",
      " 12.6 12.7 21.6 18.8  5.5 14.8 24.  26.3 12.2 18.1 24.5 26.9 31.1 30.3\n",
      " 26.1 16.  19.4  2.7  3.7 10.3  5.7  9.8 19.3 17.5 15.4 15.2  6.5]\n",
      "\n",
      "['not fire   ' 'fire   ' 'fire' 'fire ' 'not fire' 'not fire '\n",
      " 'not fire     ' nan 'not fire    ']\n",
      "\n"
     ]
    }
   ],
   "source": [
    "for col in df.columns:\n",
    "  print(df[col].unique())\n",
    "  print()"
   ]
  },
  {
   "cell_type": "markdown",
   "metadata": {},
   "source": [
    "Since year do not have any effect/singficance on forest fire/temperature so we can safely remove it."
   ]
  },
  {
   "cell_type": "code",
   "execution_count": 106,
   "metadata": {
    "execution": {
     "iopub.execute_input": "2022-10-16T17:48:04.731705Z",
     "iopub.status.busy": "2022-10-16T17:48:04.730989Z",
     "iopub.status.idle": "2022-10-16T17:48:04.738686Z",
     "shell.execute_reply": "2022-10-16T17:48:04.737592Z",
     "shell.execute_reply.started": "2022-10-16T17:48:04.731635Z"
    },
    "id": "gx-rjWpZAn4H"
   },
   "outputs": [],
   "source": [
    "df.drop('year', axis=1, inplace=True)"
   ]
  },
  {
   "cell_type": "markdown",
   "metadata": {},
   "source": [
    "WE can see clearly classes column have some noise, we have to get rid off that noise"
   ]
  },
  {
   "cell_type": "code",
   "execution_count": 107,
   "metadata": {},
   "outputs": [
    {
     "data": {
      "text/plain": [
       "0       not fire   \n",
       "1       not fire   \n",
       "2       not fire   \n",
       "3       not fire   \n",
       "4       not fire   \n",
       "           ...     \n",
       "239         fire   \n",
       "240     not fire   \n",
       "241     not fire   \n",
       "242     not fire   \n",
       "243    not fire    \n",
       "Name: Classes  , Length: 244, dtype: object"
      ]
     },
     "execution_count": 107,
     "metadata": {},
     "output_type": "execute_result"
    }
   ],
   "source": [
    "df['Classes  '].replace('nan', df['Classes  '].mode)"
   ]
  },
  {
   "cell_type": "code",
   "execution_count": 108,
   "metadata": {},
   "outputs": [],
   "source": [
    "def signal(x):\n",
    "    if x in ['not fire   ','not fire','not fire ', 'not fire     ','nan', 'not fire    ']:\n",
    "        return 0\n",
    "    else:\n",
    "        return 1"
   ]
  },
  {
   "cell_type": "code",
   "execution_count": 109,
   "metadata": {},
   "outputs": [],
   "source": [
    "df['Classes  ']=df['Classes  '].map(signal)"
   ]
  },
  {
   "cell_type": "code",
   "execution_count": 110,
   "metadata": {},
   "outputs": [
    {
     "data": {
      "text/plain": [
       "array([0, 1], dtype=int64)"
      ]
     },
     "execution_count": 110,
     "metadata": {},
     "output_type": "execute_result"
    }
   ],
   "source": [
    "df['Classes  '].unique()"
   ]
  },
  {
   "cell_type": "code",
   "execution_count": 111,
   "metadata": {},
   "outputs": [
    {
     "data": {
      "text/plain": [
       "Index(['day', 'month', 'Temperature', ' RH', ' Ws', 'Rain ', 'FFMC', 'DMC',\n",
       "       'DC', 'ISI', 'BUI', 'FWI', 'Classes  '],\n",
       "      dtype='object')"
      ]
     },
     "execution_count": 111,
     "metadata": {},
     "output_type": "execute_result"
    }
   ],
   "source": [
    "df.columns"
   ]
  },
  {
   "cell_type": "markdown",
   "metadata": {},
   "source": [
    "** Now our classes are 0 and 1\n",
    "1. 0 => No Fire\n",
    "2. 1 => Fire is there"
   ]
  },
  {
   "cell_type": "code",
   "execution_count": null,
   "metadata": {},
   "outputs": [],
   "source": []
  },
  {
   "cell_type": "markdown",
   "metadata": {},
   "source": [
    " Renaming columns, since they have some extra spaces"
   ]
  },
  {
   "cell_type": "code",
   "execution_count": 112,
   "metadata": {},
   "outputs": [],
   "source": [
    "df.rename({' RH':'RH',' Ws':'WS','Rain ':'Rain', 'Classes  ':'Classes' }, axis=1, inplace=True)"
   ]
  },
  {
   "cell_type": "code",
   "execution_count": 113,
   "metadata": {},
   "outputs": [
    {
     "data": {
      "text/plain": [
       "Index(['day', 'month', 'Temperature', 'RH', 'WS', 'Rain', 'FFMC', 'DMC', 'DC',\n",
       "       'ISI', 'BUI', 'FWI', 'Classes'],\n",
       "      dtype='object')"
      ]
     },
     "execution_count": 113,
     "metadata": {},
     "output_type": "execute_result"
    }
   ],
   "source": [
    "df.columns"
   ]
  },
  {
   "cell_type": "code",
   "execution_count": 114,
   "metadata": {
    "execution": {
     "iopub.execute_input": "2022-10-16T17:48:04.741374Z",
     "iopub.status.busy": "2022-10-16T17:48:04.740189Z",
     "iopub.status.idle": "2022-10-16T17:48:04.752049Z",
     "shell.execute_reply": "2022-10-16T17:48:04.750800Z",
     "shell.execute_reply.started": "2022-10-16T17:48:04.741334Z"
    },
    "id": "D8dDAKhW6V91"
   },
   "outputs": [],
   "source": [
    "#df['FWI'].astype('float64')"
   ]
  },
  {
   "cell_type": "code",
   "execution_count": 115,
   "metadata": {
    "execution": {
     "iopub.execute_input": "2022-10-16T17:48:04.754842Z",
     "iopub.status.busy": "2022-10-16T17:48:04.754056Z",
     "iopub.status.idle": "2022-10-16T17:48:04.762746Z",
     "shell.execute_reply": "2022-10-16T17:48:04.761566Z",
     "shell.execute_reply.started": "2022-10-16T17:48:04.754797Z"
    },
    "id": "e5SU9IhF37p8"
   },
   "outputs": [],
   "source": [
    "#df.astype(np.int64).dtypes"
   ]
  },
  {
   "cell_type": "code",
   "execution_count": 116,
   "metadata": {
    "colab": {
     "base_uri": "https://localhost:8080/",
     "height": 300
    },
    "execution": {
     "iopub.execute_input": "2022-10-16T17:48:04.766909Z",
     "iopub.status.busy": "2022-10-16T17:48:04.766376Z",
     "iopub.status.idle": "2022-10-16T17:48:04.824090Z",
     "shell.execute_reply": "2022-10-16T17:48:04.822736Z",
     "shell.execute_reply.started": "2022-10-16T17:48:04.766869Z"
    },
    "id": "F0LjY9e4zRoZ",
    "outputId": "7723a708-38db-4d6b-97be-4b941c66a803"
   },
   "outputs": [
    {
     "data": {
      "text/html": [
       "<div>\n",
       "<style scoped>\n",
       "    .dataframe tbody tr th:only-of-type {\n",
       "        vertical-align: middle;\n",
       "    }\n",
       "\n",
       "    .dataframe tbody tr th {\n",
       "        vertical-align: top;\n",
       "    }\n",
       "\n",
       "    .dataframe thead th {\n",
       "        text-align: right;\n",
       "    }\n",
       "</style>\n",
       "<table border=\"1\" class=\"dataframe\">\n",
       "  <thead>\n",
       "    <tr style=\"text-align: right;\">\n",
       "      <th></th>\n",
       "      <th>day</th>\n",
       "      <th>month</th>\n",
       "      <th>Temperature</th>\n",
       "      <th>RH</th>\n",
       "      <th>WS</th>\n",
       "      <th>Rain</th>\n",
       "      <th>FFMC</th>\n",
       "      <th>DMC</th>\n",
       "      <th>DC</th>\n",
       "      <th>ISI</th>\n",
       "      <th>BUI</th>\n",
       "      <th>FWI</th>\n",
       "      <th>Classes</th>\n",
       "    </tr>\n",
       "  </thead>\n",
       "  <tbody>\n",
       "    <tr>\n",
       "      <th>count</th>\n",
       "      <td>244.000000</td>\n",
       "      <td>244.000000</td>\n",
       "      <td>244.000000</td>\n",
       "      <td>244.000000</td>\n",
       "      <td>244.000000</td>\n",
       "      <td>244.000000</td>\n",
       "      <td>244.000000</td>\n",
       "      <td>244.000000</td>\n",
       "      <td>244.000000</td>\n",
       "      <td>244.000000</td>\n",
       "      <td>244.000000</td>\n",
       "      <td>244.000000</td>\n",
       "      <td>244.000000</td>\n",
       "    </tr>\n",
       "    <tr>\n",
       "      <th>mean</th>\n",
       "      <td>15.754098</td>\n",
       "      <td>7.500000</td>\n",
       "      <td>32.172131</td>\n",
       "      <td>61.938525</td>\n",
       "      <td>15.504098</td>\n",
       "      <td>0.760656</td>\n",
       "      <td>77.887705</td>\n",
       "      <td>14.673361</td>\n",
       "      <td>49.288115</td>\n",
       "      <td>4.774180</td>\n",
       "      <td>16.664754</td>\n",
       "      <td>7.049590</td>\n",
       "      <td>0.565574</td>\n",
       "    </tr>\n",
       "    <tr>\n",
       "      <th>std</th>\n",
       "      <td>8.825059</td>\n",
       "      <td>1.112961</td>\n",
       "      <td>3.633843</td>\n",
       "      <td>14.884200</td>\n",
       "      <td>2.810178</td>\n",
       "      <td>1.999406</td>\n",
       "      <td>14.337571</td>\n",
       "      <td>12.368039</td>\n",
       "      <td>47.619662</td>\n",
       "      <td>4.175318</td>\n",
       "      <td>14.204824</td>\n",
       "      <td>7.428554</td>\n",
       "      <td>0.496700</td>\n",
       "    </tr>\n",
       "    <tr>\n",
       "      <th>min</th>\n",
       "      <td>1.000000</td>\n",
       "      <td>6.000000</td>\n",
       "      <td>22.000000</td>\n",
       "      <td>21.000000</td>\n",
       "      <td>6.000000</td>\n",
       "      <td>0.000000</td>\n",
       "      <td>28.600000</td>\n",
       "      <td>0.700000</td>\n",
       "      <td>6.900000</td>\n",
       "      <td>0.000000</td>\n",
       "      <td>1.100000</td>\n",
       "      <td>0.000000</td>\n",
       "      <td>0.000000</td>\n",
       "    </tr>\n",
       "    <tr>\n",
       "      <th>25%</th>\n",
       "      <td>8.000000</td>\n",
       "      <td>7.000000</td>\n",
       "      <td>30.000000</td>\n",
       "      <td>52.000000</td>\n",
       "      <td>14.000000</td>\n",
       "      <td>0.000000</td>\n",
       "      <td>72.075000</td>\n",
       "      <td>5.800000</td>\n",
       "      <td>13.275000</td>\n",
       "      <td>1.400000</td>\n",
       "      <td>6.000000</td>\n",
       "      <td>0.700000</td>\n",
       "      <td>0.000000</td>\n",
       "    </tr>\n",
       "    <tr>\n",
       "      <th>50%</th>\n",
       "      <td>16.000000</td>\n",
       "      <td>7.500000</td>\n",
       "      <td>32.000000</td>\n",
       "      <td>63.000000</td>\n",
       "      <td>15.000000</td>\n",
       "      <td>0.000000</td>\n",
       "      <td>83.500000</td>\n",
       "      <td>11.300000</td>\n",
       "      <td>33.100000</td>\n",
       "      <td>3.500000</td>\n",
       "      <td>12.250000</td>\n",
       "      <td>4.450000</td>\n",
       "      <td>1.000000</td>\n",
       "    </tr>\n",
       "    <tr>\n",
       "      <th>75%</th>\n",
       "      <td>23.000000</td>\n",
       "      <td>8.000000</td>\n",
       "      <td>35.000000</td>\n",
       "      <td>73.250000</td>\n",
       "      <td>17.000000</td>\n",
       "      <td>0.500000</td>\n",
       "      <td>88.300000</td>\n",
       "      <td>20.750000</td>\n",
       "      <td>68.150000</td>\n",
       "      <td>7.300000</td>\n",
       "      <td>22.525000</td>\n",
       "      <td>11.375000</td>\n",
       "      <td>1.000000</td>\n",
       "    </tr>\n",
       "    <tr>\n",
       "      <th>max</th>\n",
       "      <td>31.000000</td>\n",
       "      <td>9.000000</td>\n",
       "      <td>42.000000</td>\n",
       "      <td>90.000000</td>\n",
       "      <td>29.000000</td>\n",
       "      <td>16.800000</td>\n",
       "      <td>96.000000</td>\n",
       "      <td>65.900000</td>\n",
       "      <td>220.400000</td>\n",
       "      <td>19.000000</td>\n",
       "      <td>68.000000</td>\n",
       "      <td>31.100000</td>\n",
       "      <td>1.000000</td>\n",
       "    </tr>\n",
       "  </tbody>\n",
       "</table>\n",
       "</div>"
      ],
      "text/plain": [
       "              day       month  Temperature          RH          WS  \\\n",
       "count  244.000000  244.000000   244.000000  244.000000  244.000000   \n",
       "mean    15.754098    7.500000    32.172131   61.938525   15.504098   \n",
       "std      8.825059    1.112961     3.633843   14.884200    2.810178   \n",
       "min      1.000000    6.000000    22.000000   21.000000    6.000000   \n",
       "25%      8.000000    7.000000    30.000000   52.000000   14.000000   \n",
       "50%     16.000000    7.500000    32.000000   63.000000   15.000000   \n",
       "75%     23.000000    8.000000    35.000000   73.250000   17.000000   \n",
       "max     31.000000    9.000000    42.000000   90.000000   29.000000   \n",
       "\n",
       "             Rain        FFMC         DMC          DC         ISI         BUI  \\\n",
       "count  244.000000  244.000000  244.000000  244.000000  244.000000  244.000000   \n",
       "mean     0.760656   77.887705   14.673361   49.288115    4.774180   16.664754   \n",
       "std      1.999406   14.337571   12.368039   47.619662    4.175318   14.204824   \n",
       "min      0.000000   28.600000    0.700000    6.900000    0.000000    1.100000   \n",
       "25%      0.000000   72.075000    5.800000   13.275000    1.400000    6.000000   \n",
       "50%      0.000000   83.500000   11.300000   33.100000    3.500000   12.250000   \n",
       "75%      0.500000   88.300000   20.750000   68.150000    7.300000   22.525000   \n",
       "max     16.800000   96.000000   65.900000  220.400000   19.000000   68.000000   \n",
       "\n",
       "              FWI     Classes  \n",
       "count  244.000000  244.000000  \n",
       "mean     7.049590    0.565574  \n",
       "std      7.428554    0.496700  \n",
       "min      0.000000    0.000000  \n",
       "25%      0.700000    0.000000  \n",
       "50%      4.450000    1.000000  \n",
       "75%     11.375000    1.000000  \n",
       "max     31.100000    1.000000  "
      ]
     },
     "execution_count": 116,
     "metadata": {},
     "output_type": "execute_result"
    }
   ],
   "source": [
    "df.describe()"
   ]
  },
  {
   "cell_type": "code",
   "execution_count": null,
   "metadata": {
    "id": "UuoBrpbYzRoa"
   },
   "outputs": [],
   "source": []
  },
  {
   "cell_type": "code",
   "execution_count": 117,
   "metadata": {
    "colab": {
     "base_uri": "https://localhost:8080/"
    },
    "execution": {
     "iopub.execute_input": "2022-10-16T17:48:04.826933Z",
     "iopub.status.busy": "2022-10-16T17:48:04.826093Z",
     "iopub.status.idle": "2022-10-16T17:48:04.838383Z",
     "shell.execute_reply": "2022-10-16T17:48:04.837060Z",
     "shell.execute_reply.started": "2022-10-16T17:48:04.826880Z"
    },
    "id": "7OJTBj1rzRom",
    "outputId": "f4f63a49-273c-40c1-bc7b-544dc6612f5c"
   },
   "outputs": [
    {
     "data": {
      "text/plain": [
       "day            0\n",
       "month          0\n",
       "Temperature    0\n",
       "RH             0\n",
       "WS             0\n",
       "Rain           0\n",
       "FFMC           0\n",
       "DMC            0\n",
       "DC             0\n",
       "ISI            0\n",
       "BUI            0\n",
       "FWI            0\n",
       "Classes        0\n",
       "dtype: int64"
      ]
     },
     "execution_count": 117,
     "metadata": {},
     "output_type": "execute_result"
    }
   ],
   "source": [
    "# Checking missing values\n",
    "df.isnull().sum()     #or df.isna().sum()"
   ]
  },
  {
   "cell_type": "code",
   "execution_count": 118,
   "metadata": {
    "colab": {
     "base_uri": "https://localhost:8080/",
     "height": 394
    },
    "execution": {
     "iopub.execute_input": "2022-10-16T17:48:04.840889Z",
     "iopub.status.busy": "2022-10-16T17:48:04.840114Z",
     "iopub.status.idle": "2022-10-16T17:48:04.865964Z",
     "shell.execute_reply": "2022-10-16T17:48:04.865022Z",
     "shell.execute_reply.started": "2022-10-16T17:48:04.840852Z"
    },
    "id": "eAFPS7FnzRon",
    "outputId": "0c70d706-9eb0-4a00-dc4b-0bbf5f2a6658"
   },
   "outputs": [
    {
     "data": {
      "text/html": [
       "<div>\n",
       "<style scoped>\n",
       "    .dataframe tbody tr th:only-of-type {\n",
       "        vertical-align: middle;\n",
       "    }\n",
       "\n",
       "    .dataframe tbody tr th {\n",
       "        vertical-align: top;\n",
       "    }\n",
       "\n",
       "    .dataframe thead th {\n",
       "        text-align: right;\n",
       "    }\n",
       "</style>\n",
       "<table border=\"1\" class=\"dataframe\">\n",
       "  <thead>\n",
       "    <tr style=\"text-align: right;\">\n",
       "      <th></th>\n",
       "      <th>day</th>\n",
       "      <th>month</th>\n",
       "      <th>Temperature</th>\n",
       "      <th>RH</th>\n",
       "      <th>WS</th>\n",
       "      <th>Rain</th>\n",
       "      <th>FFMC</th>\n",
       "      <th>DMC</th>\n",
       "      <th>DC</th>\n",
       "      <th>ISI</th>\n",
       "      <th>BUI</th>\n",
       "      <th>FWI</th>\n",
       "      <th>Classes</th>\n",
       "    </tr>\n",
       "  </thead>\n",
       "  <tbody>\n",
       "    <tr>\n",
       "      <th>day</th>\n",
       "      <td>1.000000e+00</td>\n",
       "      <td>2.232788e-17</td>\n",
       "      <td>0.095772</td>\n",
       "      <td>-0.074209</td>\n",
       "      <td>0.047001</td>\n",
       "      <td>-0.112265</td>\n",
       "      <td>0.224032</td>\n",
       "      <td>0.491571</td>\n",
       "      <td>0.527929</td>\n",
       "      <td>0.177727</td>\n",
       "      <td>0.517229</td>\n",
       "      <td>0.350214</td>\n",
       "      <td>0.201784</td>\n",
       "    </tr>\n",
       "    <tr>\n",
       "      <th>month</th>\n",
       "      <td>2.232788e-17</td>\n",
       "      <td>1.000000e+00</td>\n",
       "      <td>-0.059017</td>\n",
       "      <td>-0.037884</td>\n",
       "      <td>-0.041447</td>\n",
       "      <td>0.035322</td>\n",
       "      <td>0.015577</td>\n",
       "      <td>0.068178</td>\n",
       "      <td>0.127672</td>\n",
       "      <td>0.061680</td>\n",
       "      <td>0.085822</td>\n",
       "      <td>0.081705</td>\n",
       "      <td>0.022333</td>\n",
       "    </tr>\n",
       "    <tr>\n",
       "      <th>Temperature</th>\n",
       "      <td>9.577222e-02</td>\n",
       "      <td>-5.901677e-02</td>\n",
       "      <td>1.000000</td>\n",
       "      <td>-0.654443</td>\n",
       "      <td>-0.278132</td>\n",
       "      <td>-0.326786</td>\n",
       "      <td>0.677491</td>\n",
       "      <td>0.483105</td>\n",
       "      <td>0.370498</td>\n",
       "      <td>0.607551</td>\n",
       "      <td>0.455504</td>\n",
       "      <td>0.566898</td>\n",
       "      <td>0.518119</td>\n",
       "    </tr>\n",
       "    <tr>\n",
       "      <th>RH</th>\n",
       "      <td>-7.420934e-02</td>\n",
       "      <td>-3.788419e-02</td>\n",
       "      <td>-0.654443</td>\n",
       "      <td>1.000000</td>\n",
       "      <td>0.236084</td>\n",
       "      <td>0.222968</td>\n",
       "      <td>-0.645658</td>\n",
       "      <td>-0.405133</td>\n",
       "      <td>-0.220330</td>\n",
       "      <td>-0.690637</td>\n",
       "      <td>-0.348587</td>\n",
       "      <td>-0.580536</td>\n",
       "      <td>-0.435023</td>\n",
       "    </tr>\n",
       "    <tr>\n",
       "      <th>WS</th>\n",
       "      <td>4.700086e-02</td>\n",
       "      <td>-4.144673e-02</td>\n",
       "      <td>-0.278132</td>\n",
       "      <td>0.236084</td>\n",
       "      <td>1.000000</td>\n",
       "      <td>0.170169</td>\n",
       "      <td>-0.163255</td>\n",
       "      <td>-0.001246</td>\n",
       "      <td>0.076245</td>\n",
       "      <td>0.015248</td>\n",
       "      <td>0.029756</td>\n",
       "      <td>0.034005</td>\n",
       "      <td>-0.066529</td>\n",
       "    </tr>\n",
       "    <tr>\n",
       "      <th>Rain</th>\n",
       "      <td>-1.122654e-01</td>\n",
       "      <td>3.532207e-02</td>\n",
       "      <td>-0.326786</td>\n",
       "      <td>0.222968</td>\n",
       "      <td>0.170169</td>\n",
       "      <td>1.000000</td>\n",
       "      <td>-0.544045</td>\n",
       "      <td>-0.288548</td>\n",
       "      <td>-0.296804</td>\n",
       "      <td>-0.347105</td>\n",
       "      <td>-0.299171</td>\n",
       "      <td>-0.324762</td>\n",
       "      <td>-0.379449</td>\n",
       "    </tr>\n",
       "    <tr>\n",
       "      <th>FFMC</th>\n",
       "      <td>2.240321e-01</td>\n",
       "      <td>1.557668e-02</td>\n",
       "      <td>0.677491</td>\n",
       "      <td>-0.645658</td>\n",
       "      <td>-0.163255</td>\n",
       "      <td>-0.544045</td>\n",
       "      <td>1.000000</td>\n",
       "      <td>0.602391</td>\n",
       "      <td>0.503910</td>\n",
       "      <td>0.739730</td>\n",
       "      <td>0.589652</td>\n",
       "      <td>0.691455</td>\n",
       "      <td>0.770114</td>\n",
       "    </tr>\n",
       "    <tr>\n",
       "      <th>DMC</th>\n",
       "      <td>4.915710e-01</td>\n",
       "      <td>6.817778e-02</td>\n",
       "      <td>0.483105</td>\n",
       "      <td>-0.405133</td>\n",
       "      <td>-0.001246</td>\n",
       "      <td>-0.288548</td>\n",
       "      <td>0.602391</td>\n",
       "      <td>1.000000</td>\n",
       "      <td>0.875358</td>\n",
       "      <td>0.674499</td>\n",
       "      <td>0.982073</td>\n",
       "      <td>0.875161</td>\n",
       "      <td>0.584188</td>\n",
       "    </tr>\n",
       "    <tr>\n",
       "      <th>DC</th>\n",
       "      <td>5.279285e-01</td>\n",
       "      <td>1.276719e-01</td>\n",
       "      <td>0.370498</td>\n",
       "      <td>-0.220330</td>\n",
       "      <td>0.076245</td>\n",
       "      <td>-0.296804</td>\n",
       "      <td>0.503910</td>\n",
       "      <td>0.875358</td>\n",
       "      <td>1.000000</td>\n",
       "      <td>0.498909</td>\n",
       "      <td>0.941904</td>\n",
       "      <td>0.736982</td>\n",
       "      <td>0.507122</td>\n",
       "    </tr>\n",
       "    <tr>\n",
       "      <th>ISI</th>\n",
       "      <td>1.777266e-01</td>\n",
       "      <td>6.168011e-02</td>\n",
       "      <td>0.607551</td>\n",
       "      <td>-0.690637</td>\n",
       "      <td>0.015248</td>\n",
       "      <td>-0.347105</td>\n",
       "      <td>0.739730</td>\n",
       "      <td>0.674499</td>\n",
       "      <td>0.498909</td>\n",
       "      <td>1.000000</td>\n",
       "      <td>0.635891</td>\n",
       "      <td>0.919486</td>\n",
       "      <td>0.735511</td>\n",
       "    </tr>\n",
       "    <tr>\n",
       "      <th>BUI</th>\n",
       "      <td>5.172292e-01</td>\n",
       "      <td>8.582162e-02</td>\n",
       "      <td>0.455504</td>\n",
       "      <td>-0.348587</td>\n",
       "      <td>0.029756</td>\n",
       "      <td>-0.299171</td>\n",
       "      <td>0.589652</td>\n",
       "      <td>0.982073</td>\n",
       "      <td>0.941904</td>\n",
       "      <td>0.635891</td>\n",
       "      <td>1.000000</td>\n",
       "      <td>0.856399</td>\n",
       "      <td>0.583882</td>\n",
       "    </tr>\n",
       "    <tr>\n",
       "      <th>FWI</th>\n",
       "      <td>3.502144e-01</td>\n",
       "      <td>8.170530e-02</td>\n",
       "      <td>0.566898</td>\n",
       "      <td>-0.580536</td>\n",
       "      <td>0.034005</td>\n",
       "      <td>-0.324762</td>\n",
       "      <td>0.691455</td>\n",
       "      <td>0.875161</td>\n",
       "      <td>0.736982</td>\n",
       "      <td>0.919486</td>\n",
       "      <td>0.856399</td>\n",
       "      <td>1.000000</td>\n",
       "      <td>0.719437</td>\n",
       "    </tr>\n",
       "    <tr>\n",
       "      <th>Classes</th>\n",
       "      <td>2.017844e-01</td>\n",
       "      <td>2.233266e-02</td>\n",
       "      <td>0.518119</td>\n",
       "      <td>-0.435023</td>\n",
       "      <td>-0.066529</td>\n",
       "      <td>-0.379449</td>\n",
       "      <td>0.770114</td>\n",
       "      <td>0.584188</td>\n",
       "      <td>0.507122</td>\n",
       "      <td>0.735511</td>\n",
       "      <td>0.583882</td>\n",
       "      <td>0.719437</td>\n",
       "      <td>1.000000</td>\n",
       "    </tr>\n",
       "  </tbody>\n",
       "</table>\n",
       "</div>"
      ],
      "text/plain": [
       "                      day         month  Temperature        RH        WS  \\\n",
       "day          1.000000e+00  2.232788e-17     0.095772 -0.074209  0.047001   \n",
       "month        2.232788e-17  1.000000e+00    -0.059017 -0.037884 -0.041447   \n",
       "Temperature  9.577222e-02 -5.901677e-02     1.000000 -0.654443 -0.278132   \n",
       "RH          -7.420934e-02 -3.788419e-02    -0.654443  1.000000  0.236084   \n",
       "WS           4.700086e-02 -4.144673e-02    -0.278132  0.236084  1.000000   \n",
       "Rain        -1.122654e-01  3.532207e-02    -0.326786  0.222968  0.170169   \n",
       "FFMC         2.240321e-01  1.557668e-02     0.677491 -0.645658 -0.163255   \n",
       "DMC          4.915710e-01  6.817778e-02     0.483105 -0.405133 -0.001246   \n",
       "DC           5.279285e-01  1.276719e-01     0.370498 -0.220330  0.076245   \n",
       "ISI          1.777266e-01  6.168011e-02     0.607551 -0.690637  0.015248   \n",
       "BUI          5.172292e-01  8.582162e-02     0.455504 -0.348587  0.029756   \n",
       "FWI          3.502144e-01  8.170530e-02     0.566898 -0.580536  0.034005   \n",
       "Classes      2.017844e-01  2.233266e-02     0.518119 -0.435023 -0.066529   \n",
       "\n",
       "                 Rain      FFMC       DMC        DC       ISI       BUI  \\\n",
       "day         -0.112265  0.224032  0.491571  0.527929  0.177727  0.517229   \n",
       "month        0.035322  0.015577  0.068178  0.127672  0.061680  0.085822   \n",
       "Temperature -0.326786  0.677491  0.483105  0.370498  0.607551  0.455504   \n",
       "RH           0.222968 -0.645658 -0.405133 -0.220330 -0.690637 -0.348587   \n",
       "WS           0.170169 -0.163255 -0.001246  0.076245  0.015248  0.029756   \n",
       "Rain         1.000000 -0.544045 -0.288548 -0.296804 -0.347105 -0.299171   \n",
       "FFMC        -0.544045  1.000000  0.602391  0.503910  0.739730  0.589652   \n",
       "DMC         -0.288548  0.602391  1.000000  0.875358  0.674499  0.982073   \n",
       "DC          -0.296804  0.503910  0.875358  1.000000  0.498909  0.941904   \n",
       "ISI         -0.347105  0.739730  0.674499  0.498909  1.000000  0.635891   \n",
       "BUI         -0.299171  0.589652  0.982073  0.941904  0.635891  1.000000   \n",
       "FWI         -0.324762  0.691455  0.875161  0.736982  0.919486  0.856399   \n",
       "Classes     -0.379449  0.770114  0.584188  0.507122  0.735511  0.583882   \n",
       "\n",
       "                  FWI   Classes  \n",
       "day          0.350214  0.201784  \n",
       "month        0.081705  0.022333  \n",
       "Temperature  0.566898  0.518119  \n",
       "RH          -0.580536 -0.435023  \n",
       "WS           0.034005 -0.066529  \n",
       "Rain        -0.324762 -0.379449  \n",
       "FFMC         0.691455  0.770114  \n",
       "DMC          0.875161  0.584188  \n",
       "DC           0.736982  0.507122  \n",
       "ISI          0.919486  0.735511  \n",
       "BUI          0.856399  0.583882  \n",
       "FWI          1.000000  0.719437  \n",
       "Classes      0.719437  1.000000  "
      ]
     },
     "execution_count": 118,
     "metadata": {},
     "output_type": "execute_result"
    }
   ],
   "source": [
    "# having a look at correlation\n",
    "df.corr()"
   ]
  },
  {
   "cell_type": "code",
   "execution_count": 119,
   "metadata": {
    "execution": {
     "iopub.execute_input": "2022-10-16T17:48:04.868352Z",
     "iopub.status.busy": "2022-10-16T17:48:04.867678Z",
     "iopub.status.idle": "2022-10-16T17:48:04.874148Z",
     "shell.execute_reply": "2022-10-16T17:48:04.872720Z",
     "shell.execute_reply.started": "2022-10-16T17:48:04.868316Z"
    },
    "id": "0vvg0zKtzRoo"
   },
   "outputs": [],
   "source": [
    "#sns.pairplot(df)"
   ]
  },
  {
   "cell_type": "code",
   "execution_count": 120,
   "metadata": {},
   "outputs": [
    {
     "data": {
      "text/plain": [
       "<AxesSubplot: >"
      ]
     },
     "execution_count": 120,
     "metadata": {},
     "output_type": "execute_result"
    },
    {
     "data": {
      "image/png": "[encoded data removed]",
      "text/plain": [
       "<Figure size 1000x800 with 2 Axes>"
      ]
     },
     "metadata": {},
     "output_type": "display_data"
    }
   ],
   "source": [
    "corr= df.corr()\n",
    "\n",
    "# Getting the Upper Triangle of the co-relation matrix\n",
    "matrix = np.triu(corr)\n",
    "\n",
    "# using the upper triangle matrix as mask \n",
    "sns.heatmap(corr, annot=True, mask=matrix)"
   ]
  },
  {
   "cell_type": "markdown",
   "metadata": {},
   "source": [
    "* We can see, temperature has significant negative correlation with RH and positive correlation with FFMC, DMC, ISI, BUI and FWI\n",
    "* FWi seems to be interdipendent with DMC, ISI and BUI. Same is the case with BUI with DMC and DC (0.98 0.94 respectively) so we can exclude BUI"
   ]
  },
  {
   "cell_type": "code",
   "execution_count": 121,
   "metadata": {
    "colab": {
     "base_uri": "https://localhost:8080/"
    },
    "id": "dO2-E8yXWqt_",
    "outputId": "cd70e01d-2c8b-4e75-f7e0-6a2082dccf59"
   },
   "outputs": [
    {
     "data": {
      "text/plain": [
       "1    138\n",
       "0    106\n",
       "Name: Classes, dtype: int64"
      ]
     },
     "execution_count": 121,
     "metadata": {},
     "output_type": "execute_result"
    }
   ],
   "source": [
    "# Checking data balance\n",
    "df['Classes'].value_counts()"
   ]
  },
  {
   "cell_type": "markdown",
   "metadata": {},
   "source": [
    "This is balance data"
   ]
  },
  {
   "cell_type": "code",
   "execution_count": 122,
   "metadata": {},
   "outputs": [
    {
     "data": {
      "text/plain": [
       "<AxesSubplot: xlabel='Classes', ylabel='count'>"
      ]
     },
     "execution_count": 122,
     "metadata": {},
     "output_type": "execute_result"
    },
    {
     "data": {
      "image/png": "[encoded data removed]",
      "text/plain": [
       "<Figure size 600x400 with 1 Axes>"
      ]
     },
     "metadata": {},
     "output_type": "display_data"
    }
   ],
   "source": [
    "plt.figure(figsize=(6,4))\n",
    "sns.countplot(x=df['Classes'])"
   ]
  },
  {
   "cell_type": "code",
   "execution_count": null,
   "metadata": {},
   "outputs": [],
   "source": []
  },
  {
   "cell_type": "code",
   "execution_count": 123,
   "metadata": {
    "colab": {
     "base_uri": "https://localhost:8080/",
     "height": 218
    },
    "execution": {
     "iopub.execute_input": "2022-10-16T17:48:05.958400Z",
     "iopub.status.busy": "2022-10-16T17:48:05.958044Z",
     "iopub.status.idle": "2022-10-16T17:48:06.289986Z",
     "shell.execute_reply": "2022-10-16T17:48:06.288552Z",
     "shell.execute_reply.started": "2022-10-16T17:48:05.958366Z"
    },
    "id": "l9LDVvydzRop",
    "outputId": "6a6b2821-b140-4570-8199-b41df263eaba"
   },
   "outputs": [
    {
     "data": {
      "image/png": "[encoded data removed]",
      "text/plain": [
       "<Figure size 800x600 with 1 Axes>"
      ]
     },
     "metadata": {},
     "output_type": "display_data"
    }
   ],
   "source": [
    "plt.figure(figsize=(8,6))\n",
    "sns.lineplot(x=df['month'], y=df['Temperature'])\n",
    "plt.xlabel('month')\n",
    "plt.ylabel('Temperature')\n",
    "plt.show()"
   ]
  },
  {
   "cell_type": "markdown",
   "metadata": {},
   "source": [
    "From this we can see maximum temperature goes more than 35 degree in 8th month and minimum in the 9th month. So in the 8th month forest fire can be observed more frequently than ohter month."
   ]
  },
  {
   "cell_type": "code",
   "execution_count": 124,
   "metadata": {
    "execution": {
     "iopub.execute_input": "2022-10-16T17:48:06.293366Z",
     "iopub.status.busy": "2022-10-16T17:48:06.292171Z",
     "iopub.status.idle": "2022-10-16T17:48:06.644106Z",
     "shell.execute_reply": "2022-10-16T17:48:06.642743Z",
     "shell.execute_reply.started": "2022-10-16T17:48:06.293313Z"
    },
    "id": "krI9nZOezRoq"
   },
   "outputs": [
    {
     "data": {
      "text/plain": [
       "Text(0, 0.5, 'Temperature')"
      ]
     },
     "execution_count": 124,
     "metadata": {},
     "output_type": "execute_result"
    },
    {
     "data": {
      "image/png": "[encoded data removed]",
      "text/plain": [
       "<Figure size 600x400 with 1 Axes>"
      ]
     },
     "metadata": {},
     "output_type": "display_data"
    }
   ],
   "source": [
    "plt.figure(figsize=(6,4))\n",
    "plt.scatter(df['RH'], df['Temperature'])\n",
    "plt.xlabel('RH')\n",
    "plt.ylabel('Temperature')"
   ]
  },
  {
   "cell_type": "code",
   "execution_count": 125,
   "metadata": {},
   "outputs": [
    {
     "data": {
      "text/plain": [
       "Index(['day', 'month', 'Temperature', 'RH', 'WS', 'Rain', 'FFMC', 'DMC', 'DC',\n",
       "       'ISI', 'BUI', 'FWI', 'Classes'],\n",
       "      dtype='object')"
      ]
     },
     "execution_count": 125,
     "metadata": {},
     "output_type": "execute_result"
    }
   ],
   "source": [
    "df.columns"
   ]
  },
  {
   "cell_type": "markdown",
   "metadata": {},
   "source": [
    "We can see there is a negative correlation between RH and Temperature"
   ]
  },
  {
   "cell_type": "code",
   "execution_count": 126,
   "metadata": {
    "execution": {
     "iopub.execute_input": "2022-10-16T17:48:06.646197Z",
     "iopub.status.busy": "2022-10-16T17:48:06.645770Z",
     "iopub.status.idle": "2022-10-16T17:48:06.900966Z",
     "shell.execute_reply": "2022-10-16T17:48:06.899843Z",
     "shell.execute_reply.started": "2022-10-16T17:48:06.646163Z"
    },
    "id": "gaff8lgAzRos"
   },
   "outputs": [
    {
     "data": {
      "text/plain": [
       "<AxesSubplot: >"
      ]
     },
     "execution_count": 126,
     "metadata": {},
     "output_type": "execute_result"
    },
    {
     "data": {
      "image/png": "[encoded data removed]",
      "text/plain": [
       "<Figure size 600x400 with 1 Axes>"
      ]
     },
     "metadata": {},
     "output_type": "display_data"
    }
   ],
   "source": [
    "plt.figure(figsize=(6,4))\n",
    "sns.boxplot(df['WS'])   "
   ]
  },
  {
   "cell_type": "code",
   "execution_count": 127,
   "metadata": {
    "execution": {
     "iopub.execute_input": "2022-10-16T17:48:06.905086Z",
     "iopub.status.busy": "2022-10-16T17:48:06.904724Z",
     "iopub.status.idle": "2022-10-16T17:48:07.181274Z",
     "shell.execute_reply": "2022-10-16T17:48:07.180043Z",
     "shell.execute_reply.started": "2022-10-16T17:48:06.905056Z"
    },
    "id": "IggV_aqyzRot"
   },
   "outputs": [
    {
     "data": {
      "text/plain": [
       "<AxesSubplot: >"
      ]
     },
     "execution_count": 127,
     "metadata": {},
     "output_type": "execute_result"
    },
    {
     "data": {
      "image/png": "[encoded data removed]",
      "text/plain": [
       "<Figure size 600x400 with 1 Axes>"
      ]
     },
     "metadata": {},
     "output_type": "display_data"
    }
   ],
   "source": [
    "plt.figure(figsize=(6,4))\n",
    "sns.boxplot(df['Rain'])"
   ]
  },
  {
   "cell_type": "code",
   "execution_count": 128,
   "metadata": {
    "execution": {
     "iopub.execute_input": "2022-10-16T17:48:07.183477Z",
     "iopub.status.busy": "2022-10-16T17:48:07.183152Z",
     "iopub.status.idle": "2022-10-16T17:48:07.447646Z",
     "shell.execute_reply": "2022-10-16T17:48:07.446295Z",
     "shell.execute_reply.started": "2022-10-16T17:48:07.183449Z"
    }
   },
   "outputs": [
    {
     "data": {
      "text/plain": [
       "<AxesSubplot: >"
      ]
     },
     "execution_count": 128,
     "metadata": {},
     "output_type": "execute_result"
    },
    {
     "data": {
      "image/png": "[encoded data removed]",
      "text/plain": [
       "<Figure size 600x400 with 1 Axes>"
      ]
     },
     "metadata": {},
     "output_type": "display_data"
    }
   ],
   "source": [
    "plt.figure(figsize=(6,4))\n",
    "sns.boxplot(df['FFMC'])"
   ]
  },
  {
   "cell_type": "code",
   "execution_count": 129,
   "metadata": {
    "execution": {
     "iopub.execute_input": "2022-10-16T17:48:07.454159Z",
     "iopub.status.busy": "2022-10-16T17:48:07.453673Z",
     "iopub.status.idle": "2022-10-16T17:48:07.721482Z",
     "shell.execute_reply": "2022-10-16T17:48:07.719626Z",
     "shell.execute_reply.started": "2022-10-16T17:48:07.454124Z"
    }
   },
   "outputs": [
    {
     "data": {
      "text/plain": [
       "<AxesSubplot: >"
      ]
     },
     "execution_count": 129,
     "metadata": {},
     "output_type": "execute_result"
    },
    {
     "data": {
      "image/png": "[encoded data removed]",
      "text/plain": [
       "<Figure size 600x400 with 1 Axes>"
      ]
     },
     "metadata": {},
     "output_type": "display_data"
    }
   ],
   "source": [
    "plt.figure(figsize=(6,4))\n",
    "sns.boxplot(df['DMC'])"
   ]
  },
  {
   "cell_type": "code",
   "execution_count": null,
   "metadata": {},
   "outputs": [],
   "source": []
  },
  {
   "cell_type": "code",
   "execution_count": 130,
   "metadata": {},
   "outputs": [
    {
     "data": {
      "text/plain": [
       "<AxesSubplot: xlabel='month', ylabel='count'>"
      ]
     },
     "execution_count": 130,
     "metadata": {},
     "output_type": "execute_result"
    },
    {
     "data": {
      "image/png": "[encoded data removed]",
      "text/plain": [
       "<Figure size 600x400 with 1 Axes>"
      ]
     },
     "metadata": {},
     "output_type": "display_data"
    }
   ],
   "source": [
    "plt.figure(figsize=(6,4))\n",
    "sns.countplot(data=df.where(df['Classes']==1), x=\"month\")"
   ]
  },
  {
   "cell_type": "markdown",
   "metadata": {},
   "source": [
    "August (8th month) has maximum number of fire followed by July (7th month) which is also supported by the fact that august experience maximum temperature rise."
   ]
  },
  {
   "cell_type": "code",
   "execution_count": null,
   "metadata": {},
   "outputs": [],
   "source": []
  },
  {
   "cell_type": "code",
   "execution_count": 131,
   "metadata": {
    "execution": {
     "iopub.execute_input": "2022-10-16T17:48:07.724831Z",
     "iopub.status.busy": "2022-10-16T17:48:07.723972Z",
     "iopub.status.idle": "2022-10-16T17:48:07.731925Z",
     "shell.execute_reply": "2022-10-16T17:48:07.730543Z",
     "shell.execute_reply.started": "2022-10-16T17:48:07.724771Z"
    },
    "id": "53AyK8RgzRov"
   },
   "outputs": [],
   "source": [
    "# Independent and Dependent features\n",
    "X = df.drop('Classes', axis=1)  \n",
    "y = df['Classes'] # or y=dataset.iloc[:,-1]"
   ]
  },
  {
   "cell_type": "code",
   "execution_count": null,
   "metadata": {
    "id": "6ePYr-xbzRov"
   },
   "outputs": [],
   "source": []
  },
  {
   "cell_type": "code",
   "execution_count": 132,
   "metadata": {
    "execution": {
     "iopub.execute_input": "2022-10-16T17:48:07.734136Z",
     "iopub.status.busy": "2022-10-16T17:48:07.733714Z",
     "iopub.status.idle": "2022-10-16T17:48:07.744690Z",
     "shell.execute_reply": "2022-10-16T17:48:07.743345Z",
     "shell.execute_reply.started": "2022-10-16T17:48:07.734102Z"
    },
    "id": "Z_3DA04tzRov"
   },
   "outputs": [],
   "source": [
    "from sklearn.model_selection import train_test_split"
   ]
  },
  {
   "cell_type": "code",
   "execution_count": 133,
   "metadata": {
    "execution": {
     "iopub.execute_input": "2022-10-16T17:48:07.746057Z",
     "iopub.status.busy": "2022-10-16T17:48:07.745751Z",
     "iopub.status.idle": "2022-10-16T17:48:07.758815Z",
     "shell.execute_reply": "2022-10-16T17:48:07.757424Z",
     "shell.execute_reply.started": "2022-10-16T17:48:07.746029Z"
    },
    "id": "n8as6lI9zRox"
   },
   "outputs": [],
   "source": [
    "X_train, X_test, y_train, y_test = train_test_split(\n",
    "    X, y, test_size=0.33, random_state=12)"
   ]
  },
  {
   "cell_type": "code",
   "execution_count": 134,
   "metadata": {
    "execution": {
     "iopub.execute_input": "2022-10-16T17:48:07.760370Z",
     "iopub.status.busy": "2022-10-16T17:48:07.760009Z",
     "iopub.status.idle": "2022-10-16T17:48:07.777347Z",
     "shell.execute_reply": "2022-10-16T17:48:07.775760Z",
     "shell.execute_reply.started": "2022-10-16T17:48:07.760325Z"
    },
    "id": "RT2wUrmjzRox"
   },
   "outputs": [
    {
     "data": {
      "text/plain": [
       "(163, 12)"
      ]
     },
     "execution_count": 134,
     "metadata": {},
     "output_type": "execute_result"
    }
   ],
   "source": [
    "X_train.shape"
   ]
  },
  {
   "cell_type": "code",
   "execution_count": 135,
   "metadata": {
    "execution": {
     "iopub.execute_input": "2022-10-16T17:48:07.778933Z",
     "iopub.status.busy": "2022-10-16T17:48:07.778601Z",
     "iopub.status.idle": "2022-10-16T17:48:07.790107Z",
     "shell.execute_reply": "2022-10-16T17:48:07.788895Z",
     "shell.execute_reply.started": "2022-10-16T17:48:07.778903Z"
    },
    "id": "ag1ZXJwGzRox"
   },
   "outputs": [
    {
     "data": {
      "text/plain": [
       "(163,)"
      ]
     },
     "execution_count": 135,
     "metadata": {},
     "output_type": "execute_result"
    }
   ],
   "source": [
    "y_train.shape"
   ]
  },
  {
   "cell_type": "code",
   "execution_count": 136,
   "metadata": {
    "execution": {
     "iopub.execute_input": "2022-10-16T17:48:07.791499Z",
     "iopub.status.busy": "2022-10-16T17:48:07.791127Z",
     "iopub.status.idle": "2022-10-16T17:48:07.800920Z",
     "shell.execute_reply": "2022-10-16T17:48:07.800064Z",
     "shell.execute_reply.started": "2022-10-16T17:48:07.791466Z"
    },
    "id": "dexgTZ4HzRoy"
   },
   "outputs": [
    {
     "data": {
      "text/plain": [
       "(81, 12)"
      ]
     },
     "execution_count": 136,
     "metadata": {},
     "output_type": "execute_result"
    }
   ],
   "source": [
    "X_test.shape"
   ]
  },
  {
   "cell_type": "code",
   "execution_count": 137,
   "metadata": {
    "execution": {
     "iopub.execute_input": "2022-10-16T17:48:07.803073Z",
     "iopub.status.busy": "2022-10-16T17:48:07.802420Z",
     "iopub.status.idle": "2022-10-16T17:48:07.815633Z",
     "shell.execute_reply": "2022-10-16T17:48:07.814820Z",
     "shell.execute_reply.started": "2022-10-16T17:48:07.803025Z"
    },
    "id": "6OrUDkVDzRoy"
   },
   "outputs": [
    {
     "data": {
      "text/plain": [
       "(81,)"
      ]
     },
     "execution_count": 137,
     "metadata": {},
     "output_type": "execute_result"
    }
   ],
   "source": [
    "y_test.shape"
   ]
  },
  {
   "cell_type": "code",
   "execution_count": 138,
   "metadata": {
    "execution": {
     "iopub.execute_input": "2022-10-16T17:48:07.817960Z",
     "iopub.status.busy": "2022-10-16T17:48:07.817051Z",
     "iopub.status.idle": "2022-10-16T17:48:07.823294Z",
     "shell.execute_reply": "2022-10-16T17:48:07.822394Z",
     "shell.execute_reply.started": "2022-10-16T17:48:07.817914Z"
    },
    "id": "mgwQ_hk_zRo0"
   },
   "outputs": [],
   "source": [
    "# standardize and feature scaling the datasets\n",
    "from sklearn.preprocessing import StandardScaler\n",
    "scaler = StandardScaler()"
   ]
  },
  {
   "cell_type": "code",
   "execution_count": 139,
   "metadata": {
    "execution": {
     "iopub.execute_input": "2022-10-16T17:48:07.825514Z",
     "iopub.status.busy": "2022-10-16T17:48:07.824695Z",
     "iopub.status.idle": "2022-10-16T17:48:07.841894Z",
     "shell.execute_reply": "2022-10-16T17:48:07.840735Z",
     "shell.execute_reply.started": "2022-10-16T17:48:07.825467Z"
    },
    "id": "xghJd6lSzRo0"
   },
   "outputs": [
    {
     "data": {
      "text/html": [
       "<style>#sk-container-id-3 {color: black;background-color: white;}#sk-container-id-3 pre{padding: 0;}#sk-container-id-3 div.sk-toggleable {background-color: white;}#sk-container-id-3 label.sk-toggleable__label {cursor: pointer;display: block;width: 100%;margin-bottom: 0;padding: 0.3em;box-sizing: border-box;text-align: center;}#sk-container-id-3 label.sk-toggleable__label-arrow:before {content: \"▸\";float: left;margin-right: 0.25em;color: #696969;}#sk-container-id-3 label.sk-toggleable__label-arrow:hover:before {color: black;}#sk-container-id-3 div.sk-estimator:hover label.sk-toggleable__label-arrow:before {color: black;}#sk-container-id-3 div.sk-toggleable__content {max-height: 0;max-width: 0;overflow: hidden;text-align: left;background-color: #f0f8ff;}#sk-container-id-3 div.sk-toggleable__content pre {margin: 0.2em;color: black;border-radius: 0.25em;background-color: #f0f8ff;}#sk-container-id-3 input.sk-toggleable__control:checked~div.sk-toggleable__content {max-height: 200px;max-width: 100%;overflow: auto;}#sk-container-id-3 input.sk-toggleable__control:checked~label.sk-toggleable__label-arrow:before {content: \"▾\";}#sk-container-id-3 div.sk-estimator input.sk-toggleable__control:checked~label.sk-toggleable__label {background-color: #d4ebff;}#sk-container-id-3 div.sk-label input.sk-toggleable__control:checked~label.sk-toggleable__label {background-color: #d4ebff;}#sk-container-id-3 input.sk-hidden--visually {border: 0;clip: rect(1px 1px 1px 1px);clip: rect(1px, 1px, 1px, 1px);height: 1px;margin: -1px;overflow: hidden;padding: 0;position: absolute;width: 1px;}#sk-container-id-3 div.sk-estimator {font-family: monospace;background-color: #f0f8ff;border: 1px dotted black;border-radius: 0.25em;box-sizing: border-box;margin-bottom: 0.5em;}#sk-container-id-3 div.sk-estimator:hover {background-color: #d4ebff;}#sk-container-id-3 div.sk-parallel-item::after {content: \"\";width: 100%;border-bottom: 1px solid gray;flex-grow: 1;}#sk-container-id-3 div.sk-label:hover label.sk-toggleable__label {background-color: #d4ebff;}#sk-container-id-3 div.sk-serial::before {content: \"\";position: absolute;border-left: 1px solid gray;box-sizing: border-box;top: 0;bottom: 0;left: 50%;z-index: 0;}#sk-container-id-3 div.sk-serial {display: flex;flex-direction: column;align-items: center;background-color: white;padding-right: 0.2em;padding-left: 0.2em;position: relative;}#sk-container-id-3 div.sk-item {position: relative;z-index: 1;}#sk-container-id-3 div.sk-parallel {display: flex;align-items: stretch;justify-content: center;background-color: white;position: relative;}#sk-container-id-3 div.sk-item::before, #sk-container-id-3 div.sk-parallel-item::before {content: \"\";position: absolute;border-left: 1px solid gray;box-sizing: border-box;top: 0;bottom: 0;left: 50%;z-index: -1;}#sk-container-id-3 div.sk-parallel-item {display: flex;flex-direction: column;z-index: 1;position: relative;background-color: white;}#sk-container-id-3 div.sk-parallel-item:first-child::after {align-self: flex-end;width: 50%;}#sk-container-id-3 div.sk-parallel-item:last-child::after {align-self: flex-start;width: 50%;}#sk-container-id-3 div.sk-parallel-item:only-child::after {width: 0;}#sk-container-id-3 div.sk-dashed-wrapped {border: 1px dashed gray;margin: 0 0.4em 0.5em 0.4em;box-sizing: border-box;padding-bottom: 0.4em;background-color: white;}#sk-container-id-3 div.sk-label label {font-family: monospace;font-weight: bold;display: inline-block;line-height: 1.2em;}#sk-container-id-3 div.sk-label-container {text-align: center;}#sk-container-id-3 div.sk-container {/* jupyter's `normalize.less` sets `[hidden] { display: none; }` but bootstrap.min.css set `[hidden] { display: none !important; }` so we also need the `!important` here to be able to override the default hidden behavior on the sphinx rendered scikit-learn.org. See: https://github.com/scikit-learn/scikit-learn/issues/21755 */display: inline-block !important;position: relative;}#sk-container-id-3 div.sk-text-repr-fallback {display: none;}</style><div id=\"sk-container-id-3\" class=\"sk-top-container\"><div class=\"sk-text-repr-fallback\"><pre>StandardScaler()</pre><b>In a Jupyter environment, please rerun this cell to show the HTML representation or trust the notebook. <br />On GitHub, the HTML representation is unable to render, please try loading this page with nbviewer.org.</b></div><div class=\"sk-container\" hidden><div class=\"sk-item\"><div class=\"sk-estimator sk-toggleable\"><input class=\"sk-toggleable__control sk-hidden--visually\" id=\"sk-estimator-id-3\" type=\"checkbox\" checked><label for=\"sk-estimator-id-3\" class=\"sk-toggleable__label sk-toggleable__label-arrow\">StandardScaler</label><div class=\"sk-toggleable__content\"><pre>StandardScaler()</pre></div></div></div></div></div>"
      ],
      "text/plain": [
       "StandardScaler()"
      ]
     },
     "execution_count": 139,
     "metadata": {},
     "output_type": "execute_result"
    }
   ],
   "source": [
    "scaler"
   ]
  },
  {
   "cell_type": "code",
   "execution_count": 140,
   "metadata": {
    "execution": {
     "iopub.execute_input": "2022-10-16T17:48:07.843619Z",
     "iopub.status.busy": "2022-10-16T17:48:07.843284Z",
     "iopub.status.idle": "2022-10-16T17:48:08.137244Z",
     "shell.execute_reply": "2022-10-16T17:48:08.136066Z",
     "shell.execute_reply.started": "2022-10-16T17:48:07.843589Z"
    }
   },
   "outputs": [
    {
     "data": {
      "text/html": [
       "<div>\n",
       "<style scoped>\n",
       "    .dataframe tbody tr th:only-of-type {\n",
       "        vertical-align: middle;\n",
       "    }\n",
       "\n",
       "    .dataframe tbody tr th {\n",
       "        vertical-align: top;\n",
       "    }\n",
       "\n",
       "    .dataframe thead th {\n",
       "        text-align: right;\n",
       "    }\n",
       "</style>\n",
       "<table border=\"1\" class=\"dataframe\">\n",
       "  <thead>\n",
       "    <tr style=\"text-align: right;\">\n",
       "      <th></th>\n",
       "      <th>day</th>\n",
       "      <th>month</th>\n",
       "      <th>Temperature</th>\n",
       "      <th>RH</th>\n",
       "      <th>WS</th>\n",
       "      <th>Rain</th>\n",
       "      <th>FFMC</th>\n",
       "      <th>DMC</th>\n",
       "      <th>DC</th>\n",
       "      <th>ISI</th>\n",
       "      <th>BUI</th>\n",
       "      <th>FWI</th>\n",
       "    </tr>\n",
       "  </thead>\n",
       "  <tbody>\n",
       "    <tr>\n",
       "      <th>126</th>\n",
       "      <td>5</td>\n",
       "      <td>6</td>\n",
       "      <td>32</td>\n",
       "      <td>60</td>\n",
       "      <td>14</td>\n",
       "      <td>0.2</td>\n",
       "      <td>77.1</td>\n",
       "      <td>6.0</td>\n",
       "      <td>17.6</td>\n",
       "      <td>1.8</td>\n",
       "      <td>6.5</td>\n",
       "      <td>0.9</td>\n",
       "    </tr>\n",
       "    <tr>\n",
       "      <th>47</th>\n",
       "      <td>18</td>\n",
       "      <td>7</td>\n",
       "      <td>31</td>\n",
       "      <td>68</td>\n",
       "      <td>14</td>\n",
       "      <td>0.0</td>\n",
       "      <td>85.4</td>\n",
       "      <td>12.1</td>\n",
       "      <td>43.1</td>\n",
       "      <td>4.6</td>\n",
       "      <td>14.2</td>\n",
       "      <td>6.0</td>\n",
       "    </tr>\n",
       "    <tr>\n",
       "      <th>62</th>\n",
       "      <td>2</td>\n",
       "      <td>8</td>\n",
       "      <td>35</td>\n",
       "      <td>55</td>\n",
       "      <td>12</td>\n",
       "      <td>0.4</td>\n",
       "      <td>78.0</td>\n",
       "      <td>5.8</td>\n",
       "      <td>10.0</td>\n",
       "      <td>1.7</td>\n",
       "      <td>5.5</td>\n",
       "      <td>0.8</td>\n",
       "    </tr>\n",
       "    <tr>\n",
       "      <th>139</th>\n",
       "      <td>18</td>\n",
       "      <td>6</td>\n",
       "      <td>33</td>\n",
       "      <td>62</td>\n",
       "      <td>10</td>\n",
       "      <td>8.7</td>\n",
       "      <td>65.5</td>\n",
       "      <td>4.6</td>\n",
       "      <td>8.3</td>\n",
       "      <td>0.9</td>\n",
       "      <td>4.4</td>\n",
       "      <td>0.4</td>\n",
       "    </tr>\n",
       "    <tr>\n",
       "      <th>233</th>\n",
       "      <td>20</td>\n",
       "      <td>9</td>\n",
       "      <td>34</td>\n",
       "      <td>58</td>\n",
       "      <td>13</td>\n",
       "      <td>0.2</td>\n",
       "      <td>79.5</td>\n",
       "      <td>18.7</td>\n",
       "      <td>88.0</td>\n",
       "      <td>2.1</td>\n",
       "      <td>24.4</td>\n",
       "      <td>3.8</td>\n",
       "    </tr>\n",
       "    <tr>\n",
       "      <th>...</th>\n",
       "      <td>...</td>\n",
       "      <td>...</td>\n",
       "      <td>...</td>\n",
       "      <td>...</td>\n",
       "      <td>...</td>\n",
       "      <td>...</td>\n",
       "      <td>...</td>\n",
       "      <td>...</td>\n",
       "      <td>...</td>\n",
       "      <td>...</td>\n",
       "      <td>...</td>\n",
       "      <td>...</td>\n",
       "    </tr>\n",
       "    <tr>\n",
       "      <th>3</th>\n",
       "      <td>4</td>\n",
       "      <td>6</td>\n",
       "      <td>25</td>\n",
       "      <td>89</td>\n",
       "      <td>13</td>\n",
       "      <td>2.5</td>\n",
       "      <td>28.6</td>\n",
       "      <td>1.3</td>\n",
       "      <td>6.9</td>\n",
       "      <td>0.0</td>\n",
       "      <td>1.7</td>\n",
       "      <td>0.0</td>\n",
       "    </tr>\n",
       "    <tr>\n",
       "      <th>130</th>\n",
       "      <td>9</td>\n",
       "      <td>6</td>\n",
       "      <td>27</td>\n",
       "      <td>59</td>\n",
       "      <td>18</td>\n",
       "      <td>0.1</td>\n",
       "      <td>78.1</td>\n",
       "      <td>8.5</td>\n",
       "      <td>14.7</td>\n",
       "      <td>2.4</td>\n",
       "      <td>8.3</td>\n",
       "      <td>1.9</td>\n",
       "    </tr>\n",
       "    <tr>\n",
       "      <th>134</th>\n",
       "      <td>13</td>\n",
       "      <td>6</td>\n",
       "      <td>30</td>\n",
       "      <td>52</td>\n",
       "      <td>15</td>\n",
       "      <td>2.0</td>\n",
       "      <td>72.3</td>\n",
       "      <td>11.4</td>\n",
       "      <td>7.8</td>\n",
       "      <td>1.4</td>\n",
       "      <td>10.9</td>\n",
       "      <td>0.9</td>\n",
       "    </tr>\n",
       "    <tr>\n",
       "      <th>155</th>\n",
       "      <td>4</td>\n",
       "      <td>7</td>\n",
       "      <td>34</td>\n",
       "      <td>58</td>\n",
       "      <td>18</td>\n",
       "      <td>0.0</td>\n",
       "      <td>88.0</td>\n",
       "      <td>13.6</td>\n",
       "      <td>36.8</td>\n",
       "      <td>8.0</td>\n",
       "      <td>14.1</td>\n",
       "      <td>9.9</td>\n",
       "    </tr>\n",
       "    <tr>\n",
       "      <th>75</th>\n",
       "      <td>15</td>\n",
       "      <td>8</td>\n",
       "      <td>36</td>\n",
       "      <td>55</td>\n",
       "      <td>13</td>\n",
       "      <td>0.3</td>\n",
       "      <td>82.4</td>\n",
       "      <td>15.6</td>\n",
       "      <td>92.5</td>\n",
       "      <td>3.7</td>\n",
       "      <td>22.0</td>\n",
       "      <td>6.3</td>\n",
       "    </tr>\n",
       "  </tbody>\n",
       "</table>\n",
       "<p>163 rows × 12 columns</p>\n",
       "</div>"
      ],
      "text/plain": [
       "     day  month  Temperature  RH  WS  Rain  FFMC   DMC    DC  ISI   BUI  FWI\n",
       "126    5      6           32  60  14   0.2  77.1   6.0  17.6  1.8   6.5  0.9\n",
       "47    18      7           31  68  14   0.0  85.4  12.1  43.1  4.6  14.2  6.0\n",
       "62     2      8           35  55  12   0.4  78.0   5.8  10.0  1.7   5.5  0.8\n",
       "139   18      6           33  62  10   8.7  65.5   4.6   8.3  0.9   4.4  0.4\n",
       "233   20      9           34  58  13   0.2  79.5  18.7  88.0  2.1  24.4  3.8\n",
       "..   ...    ...          ...  ..  ..   ...   ...   ...   ...  ...   ...  ...\n",
       "3      4      6           25  89  13   2.5  28.6   1.3   6.9  0.0   1.7  0.0\n",
       "130    9      6           27  59  18   0.1  78.1   8.5  14.7  2.4   8.3  1.9\n",
       "134   13      6           30  52  15   2.0  72.3  11.4   7.8  1.4  10.9  0.9\n",
       "155    4      7           34  58  18   0.0  88.0  13.6  36.8  8.0  14.1  9.9\n",
       "75    15      8           36  55  13   0.3  82.4  15.6  92.5  3.7  22.0  6.3\n",
       "\n",
       "[163 rows x 12 columns]"
      ]
     },
     "execution_count": 140,
     "metadata": {},
     "output_type": "execute_result"
    }
   ],
   "source": [
    "X_train"
   ]
  },
  {
   "cell_type": "code",
   "execution_count": 141,
   "metadata": {
    "execution": {
     "iopub.execute_input": "2022-10-16T18:04:50.334765Z",
     "iopub.status.busy": "2022-10-16T18:04:50.334396Z",
     "iopub.status.idle": "2022-10-16T18:04:50.339537Z",
     "shell.execute_reply": "2022-10-16T18:04:50.338423Z",
     "shell.execute_reply.started": "2022-10-16T18:04:50.334735Z"
    }
   },
   "outputs": [],
   "source": [
    "#X_train.replace('14.6 9',14.6)"
   ]
  },
  {
   "cell_type": "code",
   "execution_count": 142,
   "metadata": {
    "execution": {
     "iopub.execute_input": "2022-10-16T17:48:08.170484Z",
     "iopub.status.busy": "2022-10-16T17:48:08.170087Z",
     "iopub.status.idle": "2022-10-16T17:48:08.182681Z",
     "shell.execute_reply": "2022-10-16T17:48:08.181558Z",
     "shell.execute_reply.started": "2022-10-16T17:48:08.170450Z"
    },
    "id": "NnqSJK7XzRo1"
   },
   "outputs": [],
   "source": [
    "X_train = scaler.fit_transform(X_train)"
   ]
  },
  {
   "cell_type": "code",
   "execution_count": 143,
   "metadata": {
    "execution": {
     "iopub.execute_input": "2022-10-16T17:48:08.184467Z",
     "iopub.status.busy": "2022-10-16T17:48:08.184130Z",
     "iopub.status.idle": "2022-10-16T17:48:08.198839Z",
     "shell.execute_reply": "2022-10-16T17:48:08.197579Z",
     "shell.execute_reply.started": "2022-10-16T17:48:08.184438Z"
    },
    "id": "k06USffgzRo2"
   },
   "outputs": [],
   "source": [
    "X_test = scaler.transform(X_test)   \n",
    "# To avoid data leakage we apply only transform on test data\n",
    "# we are using same mu and sigma, which is calculated on training data"
   ]
  },
  {
   "cell_type": "code",
   "execution_count": 144,
   "metadata": {},
   "outputs": [],
   "source": [
    "#X_test"
   ]
  },
  {
   "cell_type": "markdown",
   "metadata": {
    "execution": {
     "iopub.execute_input": "2022-10-15T11:44:59.964678Z",
     "iopub.status.busy": "2022-10-15T11:44:59.963803Z",
     "iopub.status.idle": "2022-10-15T11:44:59.969448Z",
     "shell.execute_reply": "2022-10-15T11:44:59.968015Z",
     "shell.execute_reply.started": "2022-10-15T11:44:59.964636Z"
    },
    "id": "HUhMnFpdzRo2"
   },
   "source": [
    "# Model Training "
   ]
  },
  {
   "cell_type": "code",
   "execution_count": 145,
   "metadata": {
    "execution": {
     "iopub.execute_input": "2022-10-16T17:48:08.200814Z",
     "iopub.status.busy": "2022-10-16T17:48:08.200414Z",
     "iopub.status.idle": "2022-10-16T17:48:08.292477Z",
     "shell.execute_reply": "2022-10-16T17:48:08.291068Z",
     "shell.execute_reply.started": "2022-10-16T17:48:08.200770Z"
    },
    "id": "w4NAPCoWzRo3"
   },
   "outputs": [],
   "source": [
    "from sklearn.linear_model import LogisticRegression\n",
    "lr = LogisticRegression()"
   ]
  },
  {
   "cell_type": "code",
   "execution_count": 146,
   "metadata": {
    "execution": {
     "iopub.execute_input": "2022-10-16T17:48:08.295974Z",
     "iopub.status.busy": "2022-10-16T17:48:08.294188Z",
     "iopub.status.idle": "2022-10-16T17:48:08.318078Z",
     "shell.execute_reply": "2022-10-16T17:48:08.316702Z",
     "shell.execute_reply.started": "2022-10-16T17:48:08.295924Z"
    },
    "id": "3qLrjZV0zRo4"
   },
   "outputs": [
    {
     "data": {
      "text/html": [
       "<style>#sk-container-id-4 {color: black;background-color: white;}#sk-container-id-4 pre{padding: 0;}#sk-container-id-4 div.sk-toggleable {background-color: white;}#sk-container-id-4 label.sk-toggleable__label {cursor: pointer;display: block;width: 100%;margin-bottom: 0;padding: 0.3em;box-sizing: border-box;text-align: center;}#sk-container-id-4 label.sk-toggleable__label-arrow:before {content: \"▸\";float: left;margin-right: 0.25em;color: #696969;}#sk-container-id-4 label.sk-toggleable__label-arrow:hover:before {color: black;}#sk-container-id-4 div.sk-estimator:hover label.sk-toggleable__label-arrow:before {color: black;}#sk-container-id-4 div.sk-toggleable__content {max-height: 0;max-width: 0;overflow: hidden;text-align: left;background-color: #f0f8ff;}#sk-container-id-4 div.sk-toggleable__content pre {margin: 0.2em;color: black;border-radius: 0.25em;background-color: #f0f8ff;}#sk-container-id-4 input.sk-toggleable__control:checked~div.sk-toggleable__content {max-height: 200px;max-width: 100%;overflow: auto;}#sk-container-id-4 input.sk-toggleable__control:checked~label.sk-toggleable__label-arrow:before {content: \"▾\";}#sk-container-id-4 div.sk-estimator input.sk-toggleable__control:checked~label.sk-toggleable__label {background-color: #d4ebff;}#sk-container-id-4 div.sk-label input.sk-toggleable__control:checked~label.sk-toggleable__label {background-color: #d4ebff;}#sk-container-id-4 input.sk-hidden--visually {border: 0;clip: rect(1px 1px 1px 1px);clip: rect(1px, 1px, 1px, 1px);height: 1px;margin: -1px;overflow: hidden;padding: 0;position: absolute;width: 1px;}#sk-container-id-4 div.sk-estimator {font-family: monospace;background-color: #f0f8ff;border: 1px dotted black;border-radius: 0.25em;box-sizing: border-box;margin-bottom: 0.5em;}#sk-container-id-4 div.sk-estimator:hover {background-color: #d4ebff;}#sk-container-id-4 div.sk-parallel-item::after {content: \"\";width: 100%;border-bottom: 1px solid gray;flex-grow: 1;}#sk-container-id-4 div.sk-label:hover label.sk-toggleable__label {background-color: #d4ebff;}#sk-container-id-4 div.sk-serial::before {content: \"\";position: absolute;border-left: 1px solid gray;box-sizing: border-box;top: 0;bottom: 0;left: 50%;z-index: 0;}#sk-container-id-4 div.sk-serial {display: flex;flex-direction: column;align-items: center;background-color: white;padding-right: 0.2em;padding-left: 0.2em;position: relative;}#sk-container-id-4 div.sk-item {position: relative;z-index: 1;}#sk-container-id-4 div.sk-parallel {display: flex;align-items: stretch;justify-content: center;background-color: white;position: relative;}#sk-container-id-4 div.sk-item::before, #sk-container-id-4 div.sk-parallel-item::before {content: \"\";position: absolute;border-left: 1px solid gray;box-sizing: border-box;top: 0;bottom: 0;left: 50%;z-index: -1;}#sk-container-id-4 div.sk-parallel-item {display: flex;flex-direction: column;z-index: 1;position: relative;background-color: white;}#sk-container-id-4 div.sk-parallel-item:first-child::after {align-self: flex-end;width: 50%;}#sk-container-id-4 div.sk-parallel-item:last-child::after {align-self: flex-start;width: 50%;}#sk-container-id-4 div.sk-parallel-item:only-child::after {width: 0;}#sk-container-id-4 div.sk-dashed-wrapped {border: 1px dashed gray;margin: 0 0.4em 0.5em 0.4em;box-sizing: border-box;padding-bottom: 0.4em;background-color: white;}#sk-container-id-4 div.sk-label label {font-family: monospace;font-weight: bold;display: inline-block;line-height: 1.2em;}#sk-container-id-4 div.sk-label-container {text-align: center;}#sk-container-id-4 div.sk-container {/* jupyter's `normalize.less` sets `[hidden] { display: none; }` but bootstrap.min.css set `[hidden] { display: none !important; }` so we also need the `!important` here to be able to override the default hidden behavior on the sphinx rendered scikit-learn.org. See: https://github.com/scikit-learn/scikit-learn/issues/21755 */display: inline-block !important;position: relative;}#sk-container-id-4 div.sk-text-repr-fallback {display: none;}</style><div id=\"sk-container-id-4\" class=\"sk-top-container\"><div class=\"sk-text-repr-fallback\"><pre>LogisticRegression()</pre><b>In a Jupyter environment, please rerun this cell to show the HTML representation or trust the notebook. <br />On GitHub, the HTML representation is unable to render, please try loading this page with nbviewer.org.</b></div><div class=\"sk-container\" hidden><div class=\"sk-item\"><div class=\"sk-estimator sk-toggleable\"><input class=\"sk-toggleable__control sk-hidden--visually\" id=\"sk-estimator-id-4\" type=\"checkbox\" checked><label for=\"sk-estimator-id-4\" class=\"sk-toggleable__label sk-toggleable__label-arrow\">LogisticRegression</label><div class=\"sk-toggleable__content\"><pre>LogisticRegression()</pre></div></div></div></div></div>"
      ],
      "text/plain": [
       "LogisticRegression()"
      ]
     },
     "execution_count": 146,
     "metadata": {},
     "output_type": "execute_result"
    }
   ],
   "source": [
    "lr.fit(X_train, y_train)"
   ]
  },
  {
   "cell_type": "code",
   "execution_count": 147,
   "metadata": {
    "execution": {
     "iopub.execute_input": "2022-10-16T17:48:08.320980Z",
     "iopub.status.busy": "2022-10-16T17:48:08.320264Z",
     "iopub.status.idle": "2022-10-16T17:48:08.328574Z",
     "shell.execute_reply": "2022-10-16T17:48:08.327343Z",
     "shell.execute_reply.started": "2022-10-16T17:48:08.320942Z"
    },
    "id": "PPR3LpXEzRo5"
   },
   "outputs": [
    {
     "name": "stdout",
     "output_type": "stream",
     "text": [
      "[[-0.13730353  0.0390668   0.21007966  0.01119816  0.21614154 -0.38627924\n",
      "   2.13197253 -0.35791683  0.11393209  2.23446326  0.25268494  1.87420464]]\n"
     ]
    }
   ],
   "source": [
    "# print the coefficients and intercepts\n",
    "print(lr.coef_)"
   ]
  },
  {
   "cell_type": "code",
   "execution_count": 148,
   "metadata": {
    "execution": {
     "iopub.execute_input": "2022-10-16T17:48:08.330892Z",
     "iopub.status.busy": "2022-10-16T17:48:08.330527Z",
     "iopub.status.idle": "2022-10-16T17:48:08.340856Z",
     "shell.execute_reply": "2022-10-16T17:48:08.340015Z",
     "shell.execute_reply.started": "2022-10-16T17:48:08.330850Z"
    },
    "id": "grENmY4WzRo5"
   },
   "outputs": [
    {
     "name": "stdout",
     "output_type": "stream",
     "text": [
      "[1.10917207]\n"
     ]
    }
   ],
   "source": [
    "print(lr.intercept_)"
   ]
  },
  {
   "cell_type": "code",
   "execution_count": 149,
   "metadata": {
    "execution": {
     "iopub.execute_input": "2022-10-16T17:48:08.342851Z",
     "iopub.status.busy": "2022-10-16T17:48:08.342015Z",
     "iopub.status.idle": "2022-10-16T17:48:08.353867Z",
     "shell.execute_reply": "2022-10-16T17:48:08.352903Z",
     "shell.execute_reply.started": "2022-10-16T17:48:08.342818Z"
    },
    "id": "67KhAnYqzRo6"
   },
   "outputs": [],
   "source": [
    "# Prediction for test data\n",
    "y_pred =lr.predict(X_test)"
   ]
  },
  {
   "cell_type": "code",
   "execution_count": 150,
   "metadata": {
    "execution": {
     "iopub.execute_input": "2022-10-16T17:48:08.355776Z",
     "iopub.status.busy": "2022-10-16T17:48:08.354916Z",
     "iopub.status.idle": "2022-10-16T17:48:08.368680Z",
     "shell.execute_reply": "2022-10-16T17:48:08.367699Z",
     "shell.execute_reply.started": "2022-10-16T17:48:08.355742Z"
    },
    "id": "sYd9gnz-zRo7"
   },
   "outputs": [
    {
     "data": {
      "text/plain": [
       "array([0, 0, 1, 0, 1, 1, 0, 0, 0, 0, 0, 1, 1, 0, 0, 0, 0, 1, 0, 0, 1, 1,\n",
       "       1, 1, 0, 1, 0, 1, 1, 1, 1, 0, 1, 1, 1, 0, 1, 1, 1, 1, 0, 0, 1, 0,\n",
       "       1, 1, 1, 1, 1, 0, 1, 0, 1, 1, 0, 1, 1, 1, 0, 1, 0, 0, 0, 1, 1, 1,\n",
       "       0, 0, 1, 1, 1, 1, 0, 1, 1, 1, 1, 1, 1, 1, 0], dtype=int64)"
      ]
     },
     "execution_count": 150,
     "metadata": {},
     "output_type": "execute_result"
    }
   ],
   "source": [
    "y_pred"
   ]
  },
  {
   "cell_type": "markdown",
   "metadata": {
    "id": "UxhfaJUozRo-"
   },
   "source": [
    "# Performance Metrics"
   ]
  },
  {
   "cell_type": "code",
   "execution_count": 151,
   "metadata": {
    "execution": {
     "iopub.execute_input": "2022-10-16T17:48:09.463930Z",
     "iopub.status.busy": "2022-10-16T17:48:09.463592Z",
     "iopub.status.idle": "2022-10-16T17:48:09.469730Z",
     "shell.execute_reply": "2022-10-16T17:48:09.468147Z",
     "shell.execute_reply.started": "2022-10-16T17:48:09.463900Z"
    },
    "id": "_PYIKDnszRo_"
   },
   "outputs": [],
   "source": [
    "from sklearn.metrics import confusion_matrix, precision_score, f1_score, recall_score"
   ]
  },
  {
   "cell_type": "code",
   "execution_count": 152,
   "metadata": {
    "id": "i0QsiAXwzRpY"
   },
   "outputs": [
    {
     "data": {
      "text/plain": [
       "array([[31,  1],\n",
       "       [ 1, 48]], dtype=int64)"
      ]
     },
     "execution_count": 152,
     "metadata": {},
     "output_type": "execute_result"
    }
   ],
   "source": [
    "confusion_matrix(y_test, y_pred)"
   ]
  },
  {
   "cell_type": "markdown",
   "metadata": {},
   "source": [
    "Since our objective to prevent forest fire, so our main focus is to reduce false negative (fire is there but model predicted fire is not there). Hence, we select recall as performance matrix"
   ]
  },
  {
   "cell_type": "code",
   "execution_count": 153,
   "metadata": {},
   "outputs": [
    {
     "data": {
      "text/plain": [
       "0.9795918367346939"
      ]
     },
     "execution_count": 153,
     "metadata": {},
     "output_type": "execute_result"
    }
   ],
   "source": [
    "f1_score(y_test, y_pred)"
   ]
  },
  {
   "cell_type": "code",
   "execution_count": 154,
   "metadata": {},
   "outputs": [
    {
     "data": {
      "text/plain": [
       "0.9795918367346939"
      ]
     },
     "execution_count": 154,
     "metadata": {},
     "output_type": "execute_result"
    }
   ],
   "source": [
    "recall_score(y_test, y_pred)"
   ]
  },
  {
   "cell_type": "code",
   "execution_count": null,
   "metadata": {},
   "outputs": [],
   "source": []
  }
 ],
 "metadata": {
  "colab": {
   "provenance": []
  },
  "kernelspec": {
   "display_name": "Python 3 (ipykernel)",
   "language": "python",
   "name": "python3"
  },
  "language_info": {
   "codemirror_mode": {
    "name": "ipython",
    "version": 3
   },
   "file_extension": ".py",
   "mimetype": "text/x-python",
   "name": "python",
   "nbconvert_exporter": "python",
   "pygments_lexer": "ipython3",
   "version": "3.10.7"
  }
 },
 "nbformat": 4,
 "nbformat_minor": 4
}
